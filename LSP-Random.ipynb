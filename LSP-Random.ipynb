{
 "cells": [
  {
   "cell_type": "code",
   "execution_count": null,
   "id": "a7729ed5-ec87-4d22-b974-42b0ab38a85a",
   "metadata": {},
   "outputs": [],
   "source": [
    "!pwd"
   ]
  },
  {
   "cell_type": "code",
   "execution_count": 1,
   "id": "ff9e5171-11c9-422a-96f6-92d989ffd4d3",
   "metadata": {},
   "outputs": [],
   "source": [
    "import numpy as np\n",
    "from astropy.coordinates import SkyCoord\n",
    "from astropy import units as u\n",
    "from targetexplore import Targets"
   ]
  },
  {
   "cell_type": "code",
   "execution_count": 2,
   "id": "b7fe33d3-88a2-4563-92fa-633ed18ff90b",
   "metadata": {},
   "outputs": [
    {
     "name": "stdout",
     "output_type": "stream",
     "text": [
      "<SkyCoord (ICRS): (ra, dec) in deg\n",
      "    [(250.72890682,  -4.35488465), (103.01016058, -37.99532272),\n",
      "     ( 81.66652328,  25.46647378), ..., (155.38473553,  42.98035911),\n",
      "     (339.37552512, -38.55797445), ( 15.83750517,   2.69181483)]>\n"
     ]
    }
   ],
   "source": [
    "from astropy.coordinates import SkyCoord\n",
    "import astropy.units as u\n",
    "import numpy as np\n",
    "\n",
    "np.random.seed(123)\n",
    "\n",
    "# Number of random pointings\n",
    "n = 5000\n",
    "\n",
    "# Random RA between 0 and 360 degrees\n",
    "ra = np.random.uniform(0, 360, n)\n",
    "\n",
    "# Random Dec between -90 and +45 degrees\n",
    "dec = np.arcsin(np.random.uniform(-1, np.sqrt(2)/2, n)) * (180 / np.pi)\n",
    "\n",
    "# Create the SkyCoord object\n",
    "coords = SkyCoord(ra=ra * u.degree, dec=dec * u.degree, frame='icrs')\n",
    "\n",
    "print(coords)"
   ]
  },
  {
   "cell_type": "code",
   "execution_count": null,
   "id": "78043faf-39ea-4ece-86b9-14c656c19e15",
   "metadata": {},
   "outputs": [],
   "source": [
    "tgts = Targets(\n",
    "    coords,\n",
    "    telescope=\"MeerKAT\", band=\"5b\",\n",
    "    quality_cut=\"distance_gspphot > 0 and (distance_gspphot_upper - distance_gspphot_lower) / distance_gspphot < .2\",\n",
    "    # force_quality_cut=False,\n",
    ")"
   ]
  },
  {
   "cell_type": "code",
   "execution_count": null,
   "id": "4a24256f-8042-4f46-9f5c-90456077001b",
   "metadata": {},
   "outputs": [],
   "source": [
    "len(tgts)"
   ]
  },
  {
   "cell_type": "code",
   "execution_count": null,
   "id": "2866aee7-c9f1-4f96-b730-8edfa4f4d51d",
   "metadata": {},
   "outputs": [],
   "source": [
    "print(tgts._query)"
   ]
  },
  {
   "cell_type": "code",
   "execution_count": null,
   "id": "f3906754-b3d1-42af-8b72-46cfafa9aace",
   "metadata": {},
   "outputs": [],
   "source": [
    "import matplotlib.pyplot as plt \n",
    "%matplotlib inline"
   ]
  },
  {
   "cell_type": "code",
   "execution_count": null,
   "id": "60f6d04b-3768-49b2-b5bf-227550829ac0",
   "metadata": {
    "scrolled": true
   },
   "outputs": [],
   "source": [
    "tgts.hist_separation()"
   ]
  },
  {
   "cell_type": "code",
   "execution_count": null,
   "id": "4d8787f1-0abf-450c-a58b-961a0cbdeb99",
   "metadata": {},
   "outputs": [],
   "source": [
    "tgts.hist_parallax();"
   ]
  },
  {
   "cell_type": "code",
   "execution_count": null,
   "id": "327d9946-56f3-483c-bc64-4bf1de3ca1a8",
   "metadata": {},
   "outputs": [],
   "source": [
    "tgts.hist_distance(bins=1/20);"
   ]
  },
  {
   "cell_type": "code",
   "execution_count": null,
   "id": "4a432cf2-3ebe-4135-b0d1-793fc66af2cb",
   "metadata": {},
   "outputs": [],
   "source": [
    "tgts.hr(cmap=\"inferno_r\", heatmap=True, bayes=False);"
   ]
  },
  {
   "cell_type": "code",
   "execution_count": null,
   "id": "c1a797d9-1209-471b-acea-0f1ea5e0fdbe",
   "metadata": {},
   "outputs": [],
   "source": []
  }
 ],
 "metadata": {
  "kernelspec": {
   "display_name": "Python 3 (ipykernel)",
   "language": "python",
   "name": "python3"
  },
  "language_info": {
   "codemirror_mode": {
    "name": "ipython",
    "version": 3
   },
   "file_extension": ".py",
   "mimetype": "text/x-python",
   "name": "python",
   "nbconvert_exporter": "python",
   "pygments_lexer": "ipython3",
   "version": "3.12.11"
  }
 },
 "nbformat": 4,
 "nbformat_minor": 5
}
