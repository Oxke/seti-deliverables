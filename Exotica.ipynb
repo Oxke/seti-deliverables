{
 "cells": [
  {
   "cell_type": "markdown",
   "id": "0dd33469-532e-4a4c-b5b5-0b8ef8081bd2",
   "metadata": {},
   "source": [
    "# Exotica catalog"
   ]
  },
  {
   "cell_type": "code",
   "execution_count": 110,
   "id": "89578942-016d-4399-8a5f-992a3dafc0d0",
   "metadata": {},
   "outputs": [],
   "source": [
    "import pandas as pd\n",
    "import numpy as np\n",
    "from astropy.coordinates import SkyCoord\n",
    "from astropy.time import Time\n",
    "import astropy.units as u"
   ]
  },
  {
   "cell_type": "code",
   "execution_count": 127,
   "id": "d2680e91-708b-46a3-9b40-b4ff49c26b0b",
   "metadata": {},
   "outputs": [],
   "source": [
    "df = pd.read_csv(\"../../semiExotica_Catalog_2024-08-14/Catalog_semiExotica_ALL.txt\", sep=\"|\")"
   ]
  },
  {
   "cell_type": "code",
   "execution_count": 215,
   "id": "d214cb88-03d4-41b2-b99d-8fc5c787cfc3",
   "metadata": {},
   "outputs": [
    {
     "data": {
      "text/html": [
       "<div>\n",
       "<style scoped>\n",
       "    .dataframe tbody tr th:only-of-type {\n",
       "        vertical-align: middle;\n",
       "    }\n",
       "\n",
       "    .dataframe tbody tr th {\n",
       "        vertical-align: top;\n",
       "    }\n",
       "\n",
       "    .dataframe thead th {\n",
       "        text-align: right;\n",
       "    }\n",
       "</style>\n",
       "<table border=\"1\" class=\"dataframe\">\n",
       "  <thead>\n",
       "    <tr style=\"text-align: right;\">\n",
       "      <th></th>\n",
       "      <th>main name</th>\n",
       "      <th>ra dec J2000</th>\n",
       "      <th>parallax (mas)</th>\n",
       "      <th>proper motion (mas/yr)</th>\n",
       "      <th>redshift</th>\n",
       "      <th>found in simbad</th>\n",
       "      <th>gaia dr2 id</th>\n",
       "      <th>gaia dr3 id</th>\n",
       "      <th>alternate designations</th>\n",
       "      <th>score</th>\n",
       "      <th>type_catalog</th>\n",
       "      <th>ra</th>\n",
       "      <th>dec</th>\n",
       "    </tr>\n",
       "  </thead>\n",
       "  <tbody>\n",
       "    <tr>\n",
       "      <th>0</th>\n",
       "      <td>G0.0000+0.0000</td>\n",
       "      <td>0.000000 0.000000</td>\n",
       "      <td>NaN</td>\n",
       "      <td>NaN</td>\n",
       "      <td>NaN</td>\n",
       "      <td>N</td>\n",
       "      <td>NaN</td>\n",
       "      <td>NaN</td>\n",
       "      <td>NaN</td>\n",
       "      <td>4096.746964</td>\n",
       "      <td>x:Maser_MDBmas</td>\n",
       "      <td>0.0</td>\n",
       "      <td>0.000000</td>\n",
       "    </tr>\n",
       "    <tr>\n",
       "      <th>1</th>\n",
       "      <td>G65.735-75.474</td>\n",
       "      <td>0.000000 -18.691556</td>\n",
       "      <td>NaN</td>\n",
       "      <td>NaN</td>\n",
       "      <td>NaN</td>\n",
       "      <td>N</td>\n",
       "      <td>NaN</td>\n",
       "      <td>NaN</td>\n",
       "      <td>NaN</td>\n",
       "      <td>4096.746964</td>\n",
       "      <td>x:Maser_MDBmas</td>\n",
       "      <td>0.0</td>\n",
       "      <td>-18.691556</td>\n",
       "    </tr>\n",
       "    <tr>\n",
       "      <th>2</th>\n",
       "      <td>G105.812-43.807</td>\n",
       "      <td>0.000000 17.348178</td>\n",
       "      <td>NaN</td>\n",
       "      <td>NaN</td>\n",
       "      <td>NaN</td>\n",
       "      <td>N</td>\n",
       "      <td>NaN</td>\n",
       "      <td>NaN</td>\n",
       "      <td>G351.416+0.646</td>\n",
       "      <td>4096.746964</td>\n",
       "      <td>x:Maser_MDBmas</td>\n",
       "      <td>0.0</td>\n",
       "      <td>17.348178</td>\n",
       "    </tr>\n",
       "    <tr>\n",
       "      <th>3</th>\n",
       "      <td>G106.566-41.836</td>\n",
       "      <td>0.000000 19.395550</td>\n",
       "      <td>NaN</td>\n",
       "      <td>NaN</td>\n",
       "      <td>NaN</td>\n",
       "      <td>N</td>\n",
       "      <td>NaN</td>\n",
       "      <td>NaN</td>\n",
       "      <td>G049.488-0.387</td>\n",
       "      <td>4096.746964</td>\n",
       "      <td>x:Maser_MDBmas</td>\n",
       "      <td>0.0</td>\n",
       "      <td>19.395550</td>\n",
       "    </tr>\n",
       "    <tr>\n",
       "      <th>4</th>\n",
       "      <td>G111.788-24.160</td>\n",
       "      <td>0.000000 37.596056</td>\n",
       "      <td>NaN</td>\n",
       "      <td>NaN</td>\n",
       "      <td>NaN</td>\n",
       "      <td>N</td>\n",
       "      <td>NaN</td>\n",
       "      <td>NaN</td>\n",
       "      <td>NEW3</td>\n",
       "      <td>4096.746964</td>\n",
       "      <td>x:Maser_MDBmas</td>\n",
       "      <td>0.0</td>\n",
       "      <td>37.596056</td>\n",
       "    </tr>\n",
       "  </tbody>\n",
       "</table>\n",
       "</div>"
      ],
      "text/plain": [
       "         main name         ra dec J2000  parallax (mas)  \\\n",
       "0   G0.0000+0.0000    0.000000 0.000000             NaN   \n",
       "1   G65.735-75.474  0.000000 -18.691556             NaN   \n",
       "2  G105.812-43.807   0.000000 17.348178             NaN   \n",
       "3  G106.566-41.836   0.000000 19.395550             NaN   \n",
       "4  G111.788-24.160   0.000000 37.596056             NaN   \n",
       "\n",
       "  proper motion (mas/yr)  redshift found in simbad gaia dr2 id gaia dr3 id  \\\n",
       "0                    NaN       NaN               N         NaN         NaN   \n",
       "1                    NaN       NaN               N         NaN         NaN   \n",
       "2                    NaN       NaN               N         NaN         NaN   \n",
       "3                    NaN       NaN               N         NaN         NaN   \n",
       "4                    NaN       NaN               N         NaN         NaN   \n",
       "\n",
       "  alternate designations        score    type_catalog   ra        dec  \n",
       "0                    NaN  4096.746964  x:Maser_MDBmas  0.0   0.000000  \n",
       "1                    NaN  4096.746964  x:Maser_MDBmas  0.0 -18.691556  \n",
       "2         G351.416+0.646  4096.746964  x:Maser_MDBmas  0.0  17.348178  \n",
       "3         G049.488-0.387  4096.746964  x:Maser_MDBmas  0.0  19.395550  \n",
       "4                   NEW3  4096.746964  x:Maser_MDBmas  0.0  37.596056  "
      ]
     },
     "execution_count": 215,
     "metadata": {},
     "output_type": "execute_result"
    }
   ],
   "source": [
    "df[['ra', 'dec']] = df['ra dec J2000'].str.split(' ', expand=True).astype(float)\n",
    "df.head()"
   ]
  },
  {
   "cell_type": "code",
   "execution_count": 216,
   "id": "0418269c-69aa-4862-97bc-c1fb957a393e",
   "metadata": {},
   "outputs": [
    {
     "data": {
      "text/plain": [
       "2023793"
      ]
     },
     "execution_count": 216,
     "metadata": {},
     "output_type": "execute_result"
    }
   ],
   "source": [
    "len(df)"
   ]
  },
  {
   "cell_type": "code",
   "execution_count": 217,
   "id": "793d37c7-05d4-4a09-af69-82381934d647",
   "metadata": {},
   "outputs": [],
   "source": [
    "not_in_dr3 = df[df['gaia dr3 id'].isna()]"
   ]
  },
  {
   "cell_type": "code",
   "execution_count": 218,
   "id": "9cef788f-cb06-4335-ad59-3ee6895f2155",
   "metadata": {},
   "outputs": [
    {
     "data": {
      "text/plain": [
       "1279880"
      ]
     },
     "execution_count": 218,
     "metadata": {},
     "output_type": "execute_result"
    }
   ],
   "source": [
    "len(not_in_dr3)"
   ]
  },
  {
   "cell_type": "code",
   "execution_count": 219,
   "id": "bb964f2e-4153-4908-be40-30a706313247",
   "metadata": {},
   "outputs": [],
   "source": [
    "# g: Galaxies (~1B stars)\n",
    "# d: Diffuse subgalactic objects (e.g. star clusters) (~1 star)\n",
    "# c: galaxy associations (~1B stars)\n",
    "multiple_stars = not_in_dr3[not_in_dr3['type_catalog'].str.startswith(('g:', 'c:'))]"
   ]
  },
  {
   "cell_type": "code",
   "execution_count": 220,
   "id": "1728a002-16c8-4256-96ae-afdfcbc3f82b",
   "metadata": {},
   "outputs": [
    {
     "data": {
      "text/plain": [
       "701170"
      ]
     },
     "execution_count": 220,
     "metadata": {},
     "output_type": "execute_result"
    }
   ],
   "source": [
    "len(multiple_stars)"
   ]
  },
  {
   "cell_type": "code",
   "execution_count": 221,
   "id": "003aee3b-ba6a-42a0-8582-ceda85b68cb3",
   "metadata": {},
   "outputs": [],
   "source": [
    "# data = multiple_stars[~multiple_stars['parallax (mas)'].isna()]"
   ]
  },
  {
   "cell_type": "code",
   "execution_count": 222,
   "id": "510a6c34-0b7c-4d89-a875-ca18c7c54896",
   "metadata": {},
   "outputs": [],
   "source": [
    "data = multiple_stars[~multiple_stars['redshift'].isna()]"
   ]
  },
  {
   "cell_type": "code",
   "execution_count": 223,
   "id": "c0d1391f-0531-4e45-8ef7-7be1d20b4bd7",
   "metadata": {},
   "outputs": [
    {
     "data": {
      "text/plain": [
       "188690"
      ]
     },
     "execution_count": 223,
     "metadata": {},
     "output_type": "execute_result"
    }
   ],
   "source": [
    "len(data)"
   ]
  },
  {
   "cell_type": "code",
   "execution_count": 224,
   "id": "512fb11d-43dc-4495-8e52-fbcb4a198e51",
   "metadata": {},
   "outputs": [
    {
     "data": {
      "text/plain": [
       "Counter({'PGCgal': 171514,\n",
       "         'V10agn': 13108,\n",
       "         'A89gcl': 2271,\n",
       "         'K14vir': 1108,\n",
       "         'B85vir': 559,\n",
       "         'A22grs': 268,\n",
       "         'F89for': 233,\n",
       "         'V18for': 177,\n",
       "         'K13gal': 157,\n",
       "         'S03irg': 90,\n",
       "         'C09bcg': 71,\n",
       "         'O18xrs': 50,\n",
       "         'V12rad': 34,\n",
       "         'V99xrs': 33,\n",
       "         'V17for': 12,\n",
       "         'H24opc': 4,\n",
       "         'MDBmas': 3,\n",
       "         'G12glb': 2,\n",
       "         'S17var': 2,\n",
       "         'C22fgl': 1,\n",
       "         'B08mag': 1,\n",
       "         'P16vgl': 1,\n",
       "         'A19sym': 1})"
      ]
     },
     "execution_count": 224,
     "metadata": {},
     "output_type": "execute_result"
    }
   ],
   "source": [
    "cats = []\n",
    "for el in data['type_catalog'].str.split(\"_\"):\n",
    "    for i in range(1, len(el), 2):\n",
    "        cats.append(el[i].split(\";\")[0])\n",
    "from collections import Counter\n",
    "Counter(cats)"
   ]
  },
  {
   "cell_type": "code",
   "execution_count": 225,
   "id": "41e40b2a-d360-46ab-bbde-0d8dc5f3764b",
   "metadata": {},
   "outputs": [
    {
     "data": {
      "text/html": [
       "<div>\n",
       "<style scoped>\n",
       "    .dataframe tbody tr th:only-of-type {\n",
       "        vertical-align: middle;\n",
       "    }\n",
       "\n",
       "    .dataframe tbody tr th {\n",
       "        vertical-align: top;\n",
       "    }\n",
       "\n",
       "    .dataframe thead th {\n",
       "        text-align: right;\n",
       "    }\n",
       "</style>\n",
       "<table border=\"1\" class=\"dataframe\">\n",
       "  <thead>\n",
       "    <tr style=\"text-align: right;\">\n",
       "      <th></th>\n",
       "      <th>main name</th>\n",
       "      <th>ra dec J2000</th>\n",
       "      <th>parallax (mas)</th>\n",
       "      <th>proper motion (mas/yr)</th>\n",
       "      <th>redshift</th>\n",
       "      <th>found in simbad</th>\n",
       "      <th>gaia dr2 id</th>\n",
       "      <th>gaia dr3 id</th>\n",
       "      <th>alternate designations</th>\n",
       "      <th>score</th>\n",
       "      <th>type_catalog</th>\n",
       "      <th>ra</th>\n",
       "      <th>dec</th>\n",
       "    </tr>\n",
       "  </thead>\n",
       "  <tbody>\n",
       "    <tr>\n",
       "      <th>13</th>\n",
       "      <td>LEDA 2794824</td>\n",
       "      <td>0.000833 -40.113333</td>\n",
       "      <td>NaN</td>\n",
       "      <td>NaN</td>\n",
       "      <td>0.095331</td>\n",
       "      <td>Y</td>\n",
       "      <td>NaN</td>\n",
       "      <td>NaN</td>\n",
       "      <td>PGC2794824</td>\n",
       "      <td>2.039544</td>\n",
       "      <td>g:Galaxy_PGCgal</td>\n",
       "      <td>0.000833</td>\n",
       "      <td>-40.113333</td>\n",
       "    </tr>\n",
       "    <tr>\n",
       "      <th>17</th>\n",
       "      <td>LEDA 402770</td>\n",
       "      <td>0.001625 -56.141056</td>\n",
       "      <td>NaN</td>\n",
       "      <td>NaN</td>\n",
       "      <td>0.010100</td>\n",
       "      <td>Y</td>\n",
       "      <td>NaN</td>\n",
       "      <td>NaN</td>\n",
       "      <td>PGC0402770</td>\n",
       "      <td>2.039544</td>\n",
       "      <td>g:Galaxy_PGCgal</td>\n",
       "      <td>0.001625</td>\n",
       "      <td>-56.141056</td>\n",
       "    </tr>\n",
       "  </tbody>\n",
       "</table>\n",
       "</div>"
      ],
      "text/plain": [
       "       main name         ra dec J2000  parallax (mas) proper motion (mas/yr)  \\\n",
       "13  LEDA 2794824  0.000833 -40.113333             NaN                    NaN   \n",
       "17   LEDA 402770  0.001625 -56.141056             NaN                    NaN   \n",
       "\n",
       "    redshift found in simbad gaia dr2 id gaia dr3 id alternate designations  \\\n",
       "13  0.095331               Y         NaN         NaN             PGC2794824   \n",
       "17  0.010100               Y         NaN         NaN             PGC0402770   \n",
       "\n",
       "       score     type_catalog        ra        dec  \n",
       "13  2.039544  g:Galaxy_PGCgal  0.000833 -40.113333  \n",
       "17  2.039544  g:Galaxy_PGCgal  0.001625 -56.141056  "
      ]
     },
     "execution_count": 225,
     "metadata": {},
     "output_type": "execute_result"
    }
   ],
   "source": [
    "data.head(2)"
   ]
  },
  {
   "cell_type": "code",
   "execution_count": 226,
   "id": "ecb7976b-2a01-42eb-b542-e1701e196fda",
   "metadata": {},
   "outputs": [],
   "source": [
    "from astropy.cosmology import FlatLambdaCDM\n",
    "import astropy.units as u\n",
    "\n",
    "@np.vectorize\n",
    "def calc_distance_redshift(z):\n",
    "    cosmo = FlatLambdaCDM(H0=70, Om0=0.3)\n",
    "    return cosmo.comoving_distance(z).value"
   ]
  },
  {
   "cell_type": "code",
   "execution_count": 227,
   "id": "8eb8410e-e1ae-4bf0-8ee0-295860a11aeb",
   "metadata": {},
   "outputs": [
    {
     "data": {
      "text/plain": [
       "array([399.36078953,  43.15725765, 210.02972519, 555.39916595,\n",
       "       771.18646199])"
      ]
     },
     "execution_count": 227,
     "metadata": {},
     "output_type": "execute_result"
    }
   ],
   "source": [
    "calc_distance_redshift(data[\"redshift\"].to_numpy()[:5])"
   ]
  },
  {
   "cell_type": "code",
   "execution_count": 305,
   "id": "384a9eac-71e3-437d-96f5-893f72e7c79a",
   "metadata": {},
   "outputs": [],
   "source": [
    "from targetexplore import random_pointings\n",
    "centers = random_pointings(\n",
    "    30000, # CORRECT ONE \n",
    "    # 5, # LOWER FOR TESTING\n",
    "    dec_lims=[-90, 45]\n",
    ")"
   ]
  },
  {
   "cell_type": "code",
   "execution_count": 306,
   "id": "fe7900cd-f16a-4ce5-be28-baea302101a1",
   "metadata": {},
   "outputs": [],
   "source": [
    "mask = np.zeros_like(data['ra'], dtype=bool)\n",
    "coords = SkyCoord(ra=data['ra'].values*u.deg, dec=data['dec'].values*u.deg)\n",
    "for center in centers:\n",
    "    sep = center.separation(coords)\n",
    "    mask |= sep < 6 * u.arcmin\n",
    "filtered_data = data[mask]"
   ]
  },
  {
   "cell_type": "code",
   "execution_count": 307,
   "id": "5ca9c05e-651c-48bc-ba9b-29926377069a",
   "metadata": {},
   "outputs": [
    {
     "data": {
      "text/plain": [
       "array([['2dFGRS TGS276Z139', 0.0758, nan, 0.120417, -29.105278],\n",
       "       ['ESO 293-28', 0.051404, nan, 0.145417, -40.576389],\n",
       "       ['2dFGRS TGS276Z133', 0.0705, nan, 0.281326, -29.02167],\n",
       "       ...,\n",
       "       ['2dFGRS TGS277Z219', 0.0997, nan, 359.933333, -29.058889],\n",
       "       ['2dFGRS TGS276Z143', 0.0619, nan, 359.962045, -29.087591],\n",
       "       ['LEDA 107678', 0.058367, nan, 359.990792, -38.271056]],\n",
       "      shape=(4741, 5), dtype=object)"
      ]
     },
     "execution_count": 307,
     "metadata": {},
     "output_type": "execute_result"
    }
   ],
   "source": [
    "filtered_data[['main name', 'redshift', 'parallax (mas)', 'ra', 'dec']].to_numpy()"
   ]
  },
  {
   "cell_type": "code",
   "execution_count": 309,
   "id": "67db01fd-d717-40a9-aa14-f6cc9f600030",
   "metadata": {},
   "outputs": [],
   "source": [
    "dists = calc_distance_redshift(filtered_data[\"redshift\"].to_numpy())"
   ]
  },
  {
   "cell_type": "code",
   "execution_count": 311,
   "id": "dfc246bd-16c7-4c03-9461-9a700b5807fd",
   "metadata": {},
   "outputs": [],
   "source": [
    "### COPIED FROM EIRP - TFM"
   ]
  },
  {
   "cell_type": "code",
   "execution_count": 312,
   "id": "69c9e2c4-b4ec-445e-aff7-9e66c3357848",
   "metadata": {},
   "outputs": [],
   "source": [
    "import numpy as np\n",
    "from astropy import units as u"
   ]
  },
  {
   "cell_type": "code",
   "execution_count": 313,
   "id": "84520b90-b7ee-4c92-badc-82f04283d31c",
   "metadata": {},
   "outputs": [],
   "source": [
    "hi, lo = 15.3 * u.GHz, 8.4 * u.GHz\n",
    "bandwidth = 2 * u.GHz\n",
    "nu_mean = (hi + lo)/2\n",
    "nu_rel = bandwidth / nu_mean"
   ]
  },
  {
   "cell_type": "code",
   "execution_count": 314,
   "id": "0030cbb9-c946-4e94-adf0-7759aac0b88d",
   "metadata": {},
   "outputs": [],
   "source": [
    "T_rx = lambda nu: 10.6*u.K + 0.633 * (nu - 8.41*u.GHz) * (u.K/u.GHz)\n",
    "T_sky = lambda nu: 568*u.K * (nu / u.GHz)**-1.13 # galactic center \n",
    "T_sys = lambda nu: T_rx(nu) + T_sky(nu)"
   ]
  },
  {
   "cell_type": "code",
   "execution_count": 351,
   "id": "8fa55834-036a-406d-9ee0-df36f0efce76",
   "metadata": {},
   "outputs": [],
   "source": [
    "S_N_min = 10 # Czech et al. (2021), Price et al. (2020)\n",
    "k_B = 1.3806503e-23 * (u.J / u.K) # Boltzmann Constant\n",
    "D = 13.5 * u.m # antenna diameter\n",
    "# D = 8 * u.km # antenna syntetized beam\n",
    "n_antennas = 64\n",
    "A_eff = .65 * np.pi * (D / 2)**2 / n_antennas\n",
    "B = 1 * u.Hz # width of the signal\n",
    "n_pol = 1\n",
    "tau_obs = 30 * 60 * u.s # 30 minutes"
   ]
  },
  {
   "cell_type": "code",
   "execution_count": 352,
   "id": "7bfaf646-3706-494e-baa1-73c28b92449c",
   "metadata": {},
   "outputs": [],
   "source": [
    "F_min = lambda nu: S_N_min * 2 * k_B * T_sys(nu) / A_eff * np.sqrt(B / (n_pol * tau_obs))"
   ]
  },
  {
   "cell_type": "code",
   "execution_count": 353,
   "id": "f13161f4-d6ea-4e26-87bf-63c200b4406f",
   "metadata": {},
   "outputs": [
    {
     "data": {
      "text/latex": [
       "$2.4047236 \\times 10^{-22} \\; \\mathrm{\\frac{W}{m^{2}}}$"
      ],
      "text/plain": [
       "<Quantity 2.40472361e-22 W / m2>"
      ]
     },
     "execution_count": 353,
     "metadata": {},
     "output_type": "execute_result"
    }
   ],
   "source": [
    "F_min(10 * u.GHz).to(u.W / (u.m)**2)"
   ]
  },
  {
   "cell_type": "code",
   "execution_count": 354,
   "id": "9b42ce1c-9997-44d2-a7a0-62ffb0344e37",
   "metadata": {},
   "outputs": [],
   "source": [
    "EIRP_min = lambda nu, d: 4 * np.pi * d**2 * F_min(nu)"
   ]
  },
  {
   "cell_type": "code",
   "execution_count": 355,
   "id": "d25b44f0-2b13-4d1f-ad9e-fcb70228e682",
   "metadata": {},
   "outputs": [],
   "source": [
    "exotica_eirp_mins = np.array([EIRP_min(nu_mean, d*u.Mpc).to(u.W).value for d in dists])"
   ]
  },
  {
   "cell_type": "code",
   "execution_count": 356,
   "id": "d070d66f-d5ab-40eb-aeff-4cb6d6d851b6",
   "metadata": {},
   "outputs": [
    {
     "name": "stderr",
     "output_type": "stream",
     "text": [
      "/home/obs/kperez/tmp/ipykernel_22267/1751952862.py:1: RuntimeWarning: divide by zero encountered in log10\n",
      "  exotica_counts = Counter(np.ceil(np.log10(exotica_eirp_mins)).astype(int))\n",
      "/home/obs/kperez/tmp/ipykernel_22267/1751952862.py:1: RuntimeWarning: invalid value encountered in cast\n",
      "  exotica_counts = Counter(np.ceil(np.log10(exotica_eirp_mins)).astype(int))\n"
     ]
    },
    {
     "data": {
      "text/plain": [
       "[np.float64(inf),\n",
       " np.float64(inf),\n",
       " np.float64(inf),\n",
       " np.float64(inf),\n",
       " np.float64(inf),\n",
       " np.float64(inf),\n",
       " np.float64(inf),\n",
       " np.float64(inf),\n",
       " np.float64(inf),\n",
       " np.float64(inf),\n",
       " np.float64(inf),\n",
       " np.float64(inf),\n",
       " np.float64(inf),\n",
       " np.float64(-8.70443290003752),\n",
       " np.float64(-9.181554154757183),\n",
       " np.float64(-9.130401632309802),\n",
       " np.float64(-9.926281649653877),\n",
       " np.float64(-10.614701471656588),\n",
       " np.float64(-11.310814265148126),\n",
       " np.float64(-11.629400995889956),\n",
       " np.float64(-10.86480137483037),\n",
       " np.float64(-10.61112701129829),\n",
       " np.float64(-9.306492891365483),\n",
       " np.float64(inf),\n",
       " np.float64(inf),\n",
       " np.float64(inf),\n",
       " np.float64(inf),\n",
       " np.float64(inf),\n",
       " np.float64(inf)]"
      ]
     },
     "execution_count": 356,
     "metadata": {},
     "output_type": "execute_result"
    }
   ],
   "source": [
    "exotica_counts = Counter(np.ceil(np.log10(exotica_eirp_mins)).astype(int))\n",
    "x = np.arange(11, 40)\n",
    "y_exotica_MeerKAT_5b = [np.log10(1 / (nu_rel * exotica_counts[k] * 1e9)) for k in x]\n",
    "[o.value for o in y_exotica_MeerKAT_5b]"
   ]
  },
  {
   "cell_type": "code",
   "execution_count": 357,
   "id": "4d3db91f-63bc-424e-803f-468ed10a4a6a",
   "metadata": {},
   "outputs": [
    {
     "data": {
      "image/png": "[encoded data removed]",
      "text/plain": [
       "<Figure size 700x500 with 1 Axes>"
      ]
     },
     "metadata": {},
     "output_type": "display_data"
    }
   ],
   "source": [
    "from matplotlib import pyplot as plt\n",
    "# Plot\n",
    "plt.figure(figsize=(7,5))\n",
    "plt.scatter(x, y_exotica_MeerKAT_5b, color='red', s=100, label=\"Exotica MeerKAT Band 5b (3 years)\")\n",
    "plt.xlabel(r'$\\log_{10}(\\mathrm{EIRP}_{\\min})$')\n",
    "plt.ylabel(r'$\\log_{10}(\\mathrm{transmitter\\ rate})$')\n",
    "plt.title('Transmitter Rate vs Minimum EIRP')\n",
    "plt.grid(True)\n",
    "\n",
    "plt.legend()\n",
    "plt.tight_layout()"
   ]
  },
  {
   "cell_type": "code",
   "execution_count": null,
   "id": "38f8b534-caf2-4352-b857-4c30b2b04fa7",
   "metadata": {},
   "outputs": [],
   "source": []
  }
 ],
 "metadata": {
  "kernelspec": {
   "display_name": "Python 3 (ipykernel)",
   "language": "python",
   "name": "python3"
  },
  "language_info": {
   "codemirror_mode": {
    "name": "ipython",
    "version": 3
   },
   "file_extension": ".py",
   "mimetype": "text/x-python",
   "name": "python",
   "nbconvert_exporter": "python",
   "pygments_lexer": "ipython3",
   "version": "3.12.11"
  }
 },
 "nbformat": 4,
 "nbformat_minor": 5
}
