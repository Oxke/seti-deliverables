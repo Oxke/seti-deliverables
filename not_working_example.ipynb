{
 "cells": [
  {
   "cell_type": "code",
   "execution_count": 3,
   "id": "02a2b2c2-91b1-4fe4-a458-976a1c5dedac",
   "metadata": {},
   "outputs": [
    {
     "name": "stdout",
     "output_type": "stream",
     "text": [
      "/home/obs/.conda/envs/seticore/bin:/usr/local/cuda-11.7.1/bin:/home/obs/bin:/home/obs/.local/bin:/home/obs/linux_64/bin:/home/obs/linux_64/lib:/usr/local/cuda/bin:/home/obs/linux_64/bin:/home/obs/linux_64/lib:/usr/local/bin:/usr/sbin:/usr/bin:/sbin:/bin:/usr/games:/usr/local/games:/snap/bin\n"
     ]
    }
   ],
   "source": [
    "!echo $PATH"
   ]
  },
  {
   "cell_type": "code",
   "execution_count": 5,
   "id": "61b807f9-581b-44d8-b656-dfb805aba5a7",
   "metadata": {},
   "outputs": [
    {
     "name": "stdout",
     "output_type": "stream",
     "text": [
      "Collecting matplotlib\n",
      "  Downloading matplotlib-3.10.3-cp312-cp312-manylinux_2_17_x86_64.manylinux2014_x86_64.whl.metadata (11 kB)\n",
      "Collecting astropy\n",
      "  Downloading astropy-7.1.0-cp312-cp312-manylinux_2_17_x86_64.manylinux2014_x86_64.whl.metadata (10 kB)\n",
      "Requirement already satisfied: numpy in /home/obs/.conda/envs/seticore/lib/python3.12/site-packages (2.3.1)\n",
      "Collecting pandas\n",
      "  Downloading pandas-2.3.0-cp312-cp312-manylinux_2_17_x86_64.manylinux2014_x86_64.whl.metadata (91 kB)\n",
      "Collecting setigen\n",
      "  Using cached setigen-2.7.0-py3-none-any.whl.metadata (11 kB)\n",
      "Collecting blimpy\n",
      "  Using cached blimpy-2.1.4-py3-none-any.whl.metadata (6.8 kB)\n",
      "Collecting contourpy>=1.0.1 (from matplotlib)\n",
      "  Downloading contourpy-1.3.2-cp312-cp312-manylinux_2_17_x86_64.manylinux2014_x86_64.whl.metadata (5.5 kB)\n",
      "Collecting cycler>=0.10 (from matplotlib)\n",
      "  Using cached cycler-0.12.1-py3-none-any.whl.metadata (3.8 kB)\n",
      "Collecting fonttools>=4.22.0 (from matplotlib)\n",
      "  Downloading fonttools-4.58.4-cp312-cp312-manylinux1_x86_64.manylinux2014_x86_64.manylinux_2_17_x86_64.manylinux_2_5_x86_64.whl.metadata (106 kB)\n",
      "Collecting kiwisolver>=1.3.1 (from matplotlib)\n",
      "  Downloading kiwisolver-1.4.8-cp312-cp312-manylinux_2_17_x86_64.manylinux2014_x86_64.whl.metadata (6.2 kB)\n",
      "Requirement already satisfied: packaging>=20.0 in /home/obs/.conda/envs/seticore/lib/python3.12/site-packages (from matplotlib) (25.0)\n",
      "Collecting pillow>=8 (from matplotlib)\n",
      "  Downloading pillow-11.2.1-cp312-cp312-manylinux_2_17_x86_64.manylinux2014_x86_64.whl.metadata (8.9 kB)\n",
      "Collecting pyparsing>=2.3.1 (from matplotlib)\n",
      "  Using cached pyparsing-3.2.3-py3-none-any.whl.metadata (5.0 kB)\n",
      "Requirement already satisfied: python-dateutil>=2.7 in /home/obs/.conda/envs/seticore/lib/python3.12/site-packages (from matplotlib) (2.9.0.post0)\n",
      "Collecting pyerfa>=2.0.1.1 (from astropy)\n",
      "  Using cached pyerfa-2.0.1.5-cp39-abi3-manylinux_2_17_x86_64.manylinux2014_x86_64.whl.metadata (5.7 kB)\n",
      "Collecting astropy-iers-data>=0.2025.4.28.0.37.27 (from astropy)\n",
      "  Downloading astropy_iers_data-0.2025.6.30.0.39.40-py3-none-any.whl.metadata (3.4 kB)\n",
      "Requirement already satisfied: PyYAML>=6.0.0 in /home/obs/.conda/envs/seticore/lib/python3.12/site-packages (from astropy) (6.0.2)\n",
      "Requirement already satisfied: pytz>=2020.1 in /home/obs/.conda/envs/seticore/lib/python3.12/site-packages (from pandas) (2025.2)\n",
      "Collecting tzdata>=2022.7 (from pandas)\n",
      "  Using cached tzdata-2025.2-py2.py3-none-any.whl.metadata (1.4 kB)\n",
      "Collecting scipy>=1.8.0 (from setigen)\n",
      "  Downloading scipy-1.16.0-cp312-cp312-manylinux2014_x86_64.manylinux_2_17_x86_64.whl.metadata (61 kB)\n",
      "Collecting tqdm>=4.47.0 (from setigen)\n",
      "  Using cached tqdm-4.67.1-py3-none-any.whl.metadata (57 kB)\n",
      "Collecting sphinx-rtd-theme>=0.4.3 (from setigen)\n",
      "  Using cached sphinx_rtd_theme-3.0.2-py2.py3-none-any.whl.metadata (4.4 kB)\n",
      "Collecting pytest-cov>=4.1.0 (from setigen)\n",
      "  Using cached pytest_cov-6.2.1-py3-none-any.whl.metadata (30 kB)\n",
      "Requirement already satisfied: six in /home/obs/.conda/envs/seticore/lib/python3.12/site-packages (from blimpy) (1.17.0)\n",
      "Requirement already satisfied: setuptools in /home/obs/.conda/envs/seticore/lib/python3.12/site-packages (from blimpy) (80.9.0)\n",
      "Requirement already satisfied: h5py in /home/obs/.conda/envs/seticore/lib/python3.12/site-packages (from blimpy) (3.14.0)\n",
      "Requirement already satisfied: hdf5plugin in /home/obs/.conda/envs/seticore/lib/python3.12/site-packages (from blimpy) (5.1.0)\n",
      "Requirement already satisfied: psutil in /home/obs/.conda/envs/seticore/lib/python3.12/site-packages (from blimpy) (7.0.0)\n",
      "Collecting pyparsing>=2.3.1 (from matplotlib)\n",
      "  Using cached pyparsing-2.4.7-py2.py3-none-any.whl.metadata (3.6 kB)\n",
      "Collecting pytest>=6.2.5 (from pytest-cov>=4.1.0->setigen)\n",
      "  Using cached pytest-8.4.1-py3-none-any.whl.metadata (7.7 kB)\n",
      "Collecting coverage>=7.5 (from coverage[toml]>=7.5->pytest-cov>=4.1.0->setigen)\n",
      "  Downloading coverage-7.9.1-cp312-cp312-manylinux_2_5_x86_64.manylinux1_x86_64.manylinux_2_17_x86_64.manylinux2014_x86_64.whl.metadata (8.9 kB)\n",
      "Collecting pluggy>=1.2 (from pytest-cov>=4.1.0->setigen)\n",
      "  Using cached pluggy-1.6.0-py3-none-any.whl.metadata (4.8 kB)\n",
      "Collecting iniconfig>=1 (from pytest>=6.2.5->pytest-cov>=4.1.0->setigen)\n",
      "  Using cached iniconfig-2.1.0-py3-none-any.whl.metadata (2.7 kB)\n",
      "Requirement already satisfied: pygments>=2.7.2 in /home/obs/.conda/envs/seticore/lib/python3.12/site-packages (from pytest>=6.2.5->pytest-cov>=4.1.0->setigen) (2.19.2)\n",
      "Collecting sphinx<9,>=6 (from sphinx-rtd-theme>=0.4.3->setigen)\n",
      "  Downloading sphinx-8.2.3-py3-none-any.whl.metadata (7.0 kB)\n",
      "Collecting docutils<0.22,>0.18 (from sphinx-rtd-theme>=0.4.3->setigen)\n",
      "  Using cached docutils-0.21.2-py3-none-any.whl.metadata (2.8 kB)\n",
      "Collecting sphinxcontrib-jquery<5,>=4 (from sphinx-rtd-theme>=0.4.3->setigen)\n",
      "  Using cached sphinxcontrib_jquery-4.1-py2.py3-none-any.whl.metadata (2.6 kB)\n",
      "Collecting sphinxcontrib-applehelp>=1.0.7 (from sphinx<9,>=6->sphinx-rtd-theme>=0.4.3->setigen)\n",
      "  Using cached sphinxcontrib_applehelp-2.0.0-py3-none-any.whl.metadata (2.3 kB)\n",
      "Collecting sphinxcontrib-devhelp>=1.0.6 (from sphinx<9,>=6->sphinx-rtd-theme>=0.4.3->setigen)\n",
      "  Using cached sphinxcontrib_devhelp-2.0.0-py3-none-any.whl.metadata (2.3 kB)\n",
      "Collecting sphinxcontrib-htmlhelp>=2.0.6 (from sphinx<9,>=6->sphinx-rtd-theme>=0.4.3->setigen)\n",
      "  Using cached sphinxcontrib_htmlhelp-2.1.0-py3-none-any.whl.metadata (2.3 kB)\n",
      "Collecting sphinxcontrib-jsmath>=1.0.1 (from sphinx<9,>=6->sphinx-rtd-theme>=0.4.3->setigen)\n",
      "  Using cached sphinxcontrib_jsmath-1.0.1-py2.py3-none-any.whl.metadata (1.4 kB)\n",
      "Collecting sphinxcontrib-qthelp>=1.0.6 (from sphinx<9,>=6->sphinx-rtd-theme>=0.4.3->setigen)\n",
      "  Using cached sphinxcontrib_qthelp-2.0.0-py3-none-any.whl.metadata (2.3 kB)\n",
      "Collecting sphinxcontrib-serializinghtml>=1.1.9 (from sphinx<9,>=6->sphinx-rtd-theme>=0.4.3->setigen)\n",
      "  Using cached sphinxcontrib_serializinghtml-2.0.0-py3-none-any.whl.metadata (2.4 kB)\n",
      "Requirement already satisfied: Jinja2>=3.1 in /home/obs/.conda/envs/seticore/lib/python3.12/site-packages (from sphinx<9,>=6->sphinx-rtd-theme>=0.4.3->setigen) (3.1.6)\n",
      "Collecting snowballstemmer>=2.2 (from sphinx<9,>=6->sphinx-rtd-theme>=0.4.3->setigen)\n",
      "  Using cached snowballstemmer-3.0.1-py3-none-any.whl.metadata (7.9 kB)\n",
      "Requirement already satisfied: babel>=2.13 in /home/obs/.conda/envs/seticore/lib/python3.12/site-packages (from sphinx<9,>=6->sphinx-rtd-theme>=0.4.3->setigen) (2.17.0)\n",
      "Collecting alabaster>=0.7.14 (from sphinx<9,>=6->sphinx-rtd-theme>=0.4.3->setigen)\n",
      "  Using cached alabaster-1.0.0-py3-none-any.whl.metadata (2.8 kB)\n",
      "Collecting imagesize>=1.3 (from sphinx<9,>=6->sphinx-rtd-theme>=0.4.3->setigen)\n",
      "  Using cached imagesize-1.4.1-py2.py3-none-any.whl.metadata (1.5 kB)\n",
      "Requirement already satisfied: requests>=2.30.0 in /home/obs/.conda/envs/seticore/lib/python3.12/site-packages (from sphinx<9,>=6->sphinx-rtd-theme>=0.4.3->setigen) (2.32.4)\n",
      "Collecting roman-numerals-py>=1.0.0 (from sphinx<9,>=6->sphinx-rtd-theme>=0.4.3->setigen)\n",
      "  Downloading roman_numerals_py-3.1.0-py3-none-any.whl.metadata (3.6 kB)\n",
      "Requirement already satisfied: MarkupSafe>=2.0 in /home/obs/.conda/envs/seticore/lib/python3.12/site-packages (from Jinja2>=3.1->sphinx<9,>=6->sphinx-rtd-theme>=0.4.3->setigen) (3.0.2)\n",
      "Requirement already satisfied: charset_normalizer<4,>=2 in /home/obs/.conda/envs/seticore/lib/python3.12/site-packages (from requests>=2.30.0->sphinx<9,>=6->sphinx-rtd-theme>=0.4.3->setigen) (3.4.2)\n",
      "Requirement already satisfied: idna<4,>=2.5 in /home/obs/.conda/envs/seticore/lib/python3.12/site-packages (from requests>=2.30.0->sphinx<9,>=6->sphinx-rtd-theme>=0.4.3->setigen) (3.10)\n",
      "Requirement already satisfied: urllib3<3,>=1.21.1 in /home/obs/.conda/envs/seticore/lib/python3.12/site-packages (from requests>=2.30.0->sphinx<9,>=6->sphinx-rtd-theme>=0.4.3->setigen) (2.5.0)\n",
      "Requirement already satisfied: certifi>=2017.4.17 in /home/obs/.conda/envs/seticore/lib/python3.12/site-packages (from requests>=2.30.0->sphinx<9,>=6->sphinx-rtd-theme>=0.4.3->setigen) (2025.6.15)\n",
      "Downloading matplotlib-3.10.3-cp312-cp312-manylinux_2_17_x86_64.manylinux2014_x86_64.whl (8.6 MB)\n",
      "\u001b[2K   \u001b[90m━━━━━━━━━━━━━━━━━━━━━━━━━━━━━━━━━━━━━━━━\u001b[0m \u001b[32m8.6/8.6 MB\u001b[0m \u001b[31m27.7 MB/s\u001b[0m eta \u001b[36m0:00:00\u001b[0m00:01\u001b[0m\n",
      "\u001b[?25hDownloading astropy-7.1.0-cp312-cp312-manylinux_2_17_x86_64.manylinux2014_x86_64.whl (10.2 MB)\n",
      "\u001b[2K   \u001b[90m━━━━━━━━━━━━━━━━━━━━━━━━━━━━━━━━━━━━━━━━\u001b[0m \u001b[32m10.2/10.2 MB\u001b[0m \u001b[31m16.1 MB/s\u001b[0m eta \u001b[36m0:00:00\u001b[0m00:01\u001b[0m0:01\u001b[0m\n",
      "\u001b[?25hDownloading pandas-2.3.0-cp312-cp312-manylinux_2_17_x86_64.manylinux2014_x86_64.whl (12.0 MB)\n",
      "\u001b[2K   \u001b[90m━━━━━━━━━━━━━━━━━━━━━━━━━━━━━━━━━━━━━━━━\u001b[0m \u001b[32m12.0/12.0 MB\u001b[0m \u001b[31m31.1 MB/s\u001b[0m eta \u001b[36m0:00:00\u001b[0m:00:01\u001b[0m\n",
      "\u001b[?25hUsing cached setigen-2.7.0-py3-none-any.whl (1.7 MB)\n",
      "Using cached blimpy-2.1.4-py3-none-any.whl (104 kB)\n",
      "Using cached pyparsing-2.4.7-py2.py3-none-any.whl (67 kB)\n",
      "Downloading astropy_iers_data-0.2025.6.30.0.39.40-py3-none-any.whl (2.0 MB)\n",
      "\u001b[2K   \u001b[90m━━━━━━━━━━━━━━━━━━━━━━━━━━━━━━━━━━━━━━━━\u001b[0m \u001b[32m2.0/2.0 MB\u001b[0m \u001b[31m26.6 MB/s\u001b[0m eta \u001b[36m0:00:00\u001b[0m\n",
      "\u001b[?25hDownloading contourpy-1.3.2-cp312-cp312-manylinux_2_17_x86_64.manylinux2014_x86_64.whl (323 kB)\n",
      "Using cached cycler-0.12.1-py3-none-any.whl (8.3 kB)\n",
      "Downloading fonttools-4.58.4-cp312-cp312-manylinux1_x86_64.manylinux2014_x86_64.manylinux_2_17_x86_64.manylinux_2_5_x86_64.whl (4.9 MB)\n",
      "\u001b[2K   \u001b[90m━━━━━━━━━━━━━━━━━━━━━━━━━━━━━━━━━━━━━━━━\u001b[0m \u001b[32m4.9/4.9 MB\u001b[0m \u001b[31m29.5 MB/s\u001b[0m eta \u001b[36m0:00:00\u001b[0m\n",
      "\u001b[?25hDownloading kiwisolver-1.4.8-cp312-cp312-manylinux_2_17_x86_64.manylinux2014_x86_64.whl (1.5 MB)\n",
      "\u001b[2K   \u001b[90m━━━━━━━━━━━━━━━━━━━━━━━━━━━━━━━━━━━━━━━━\u001b[0m \u001b[32m1.5/1.5 MB\u001b[0m \u001b[31m24.4 MB/s\u001b[0m eta \u001b[36m0:00:00\u001b[0m\n",
      "\u001b[?25hDownloading pillow-11.2.1-cp312-cp312-manylinux_2_17_x86_64.manylinux2014_x86_64.whl (4.5 MB)\n",
      "\u001b[2K   \u001b[90m━━━━━━━━━━━━━━━━━━━━━━━━━━━━━━━━━━━━━━━━\u001b[0m \u001b[32m4.5/4.5 MB\u001b[0m \u001b[31m11.9 MB/s\u001b[0m eta \u001b[36m0:00:00\u001b[0ma \u001b[36m0:00:01\u001b[0m\n",
      "\u001b[?25hUsing cached pyerfa-2.0.1.5-cp39-abi3-manylinux_2_17_x86_64.manylinux2014_x86_64.whl (738 kB)\n",
      "Using cached pytest_cov-6.2.1-py3-none-any.whl (24 kB)\n",
      "Downloading coverage-7.9.1-cp312-cp312-manylinux_2_5_x86_64.manylinux1_x86_64.manylinux_2_17_x86_64.manylinux2014_x86_64.whl (245 kB)\n",
      "Using cached pluggy-1.6.0-py3-none-any.whl (20 kB)\n",
      "Using cached pytest-8.4.1-py3-none-any.whl (365 kB)\n",
      "Using cached iniconfig-2.1.0-py3-none-any.whl (6.0 kB)\n",
      "Downloading scipy-1.16.0-cp312-cp312-manylinux2014_x86_64.manylinux_2_17_x86_64.whl (35.1 MB)\n",
      "\u001b[2K   \u001b[90m━━━━━━━━━━━━━━━━━━━━━━━━━━━━━━━━━━━━━━━━\u001b[0m \u001b[32m35.1/35.1 MB\u001b[0m \u001b[31m32.2 MB/s\u001b[0m eta \u001b[36m0:00:00\u001b[0m:00:01\u001b[0m00:01\u001b[0m\n",
      "\u001b[?25hUsing cached sphinx_rtd_theme-3.0.2-py2.py3-none-any.whl (7.7 MB)\n",
      "Using cached docutils-0.21.2-py3-none-any.whl (587 kB)\n",
      "Downloading sphinx-8.2.3-py3-none-any.whl (3.6 MB)\n",
      "\u001b[2K   \u001b[90m━━━━━━━━━━━━━━━━━━━━━━━━━━━━━━━━━━━━━━━━\u001b[0m \u001b[32m3.6/3.6 MB\u001b[0m \u001b[31m28.3 MB/s\u001b[0m eta \u001b[36m0:00:00\u001b[0m\n",
      "\u001b[?25hUsing cached sphinxcontrib_jquery-4.1-py2.py3-none-any.whl (121 kB)\n",
      "Using cached alabaster-1.0.0-py3-none-any.whl (13 kB)\n",
      "Using cached imagesize-1.4.1-py2.py3-none-any.whl (8.8 kB)\n",
      "Downloading roman_numerals_py-3.1.0-py3-none-any.whl (7.7 kB)\n",
      "Using cached snowballstemmer-3.0.1-py3-none-any.whl (103 kB)\n",
      "Using cached sphinxcontrib_applehelp-2.0.0-py3-none-any.whl (119 kB)\n",
      "Using cached sphinxcontrib_devhelp-2.0.0-py3-none-any.whl (82 kB)\n",
      "Using cached sphinxcontrib_htmlhelp-2.1.0-py3-none-any.whl (98 kB)\n",
      "Using cached sphinxcontrib_jsmath-1.0.1-py2.py3-none-any.whl (5.1 kB)\n",
      "Using cached sphinxcontrib_qthelp-2.0.0-py3-none-any.whl (88 kB)\n",
      "Using cached sphinxcontrib_serializinghtml-2.0.0-py3-none-any.whl (92 kB)\n",
      "Using cached tqdm-4.67.1-py3-none-any.whl (78 kB)\n",
      "Using cached tzdata-2025.2-py2.py3-none-any.whl (347 kB)\n",
      "Installing collected packages: tzdata, tqdm, sphinxcontrib-serializinghtml, sphinxcontrib-qthelp, sphinxcontrib-jsmath, sphinxcontrib-htmlhelp, sphinxcontrib-devhelp, sphinxcontrib-applehelp, snowballstemmer, scipy, roman-numerals-py, pyparsing, pyerfa, pluggy, pillow, kiwisolver, iniconfig, imagesize, fonttools, docutils, cycler, coverage, contourpy, astropy-iers-data, alabaster, sphinx, pytest, pandas, matplotlib, astropy, sphinxcontrib-jquery, pytest-cov, blimpy, sphinx-rtd-theme, setigen\n",
      "\u001b[2K   \u001b[90m━━━━━━━━━━━━━━━━━━━━━━━━━━━━━━━━━━━━━━━━\u001b[0m \u001b[32m35/35\u001b[0m [setigen]4/35\u001b[0m [setigen]td-theme]]ehelp]html]\n",
      "\u001b[1A\u001b[2KSuccessfully installed alabaster-1.0.0 astropy-7.1.0 astropy-iers-data-0.2025.6.30.0.39.40 blimpy-2.1.4 contourpy-1.3.2 coverage-7.9.1 cycler-0.12.1 docutils-0.21.2 fonttools-4.58.4 imagesize-1.4.1 iniconfig-2.1.0 kiwisolver-1.4.8 matplotlib-3.10.3 pandas-2.3.0 pillow-11.2.1 pluggy-1.6.0 pyerfa-2.0.1.5 pyparsing-2.4.7 pytest-8.4.1 pytest-cov-6.2.1 roman-numerals-py-3.1.0 scipy-1.16.0 setigen-2.7.0 snowballstemmer-3.0.1 sphinx-8.2.3 sphinx-rtd-theme-3.0.2 sphinxcontrib-applehelp-2.0.0 sphinxcontrib-devhelp-2.0.0 sphinxcontrib-htmlhelp-2.1.0 sphinxcontrib-jquery-4.1 sphinxcontrib-jsmath-1.0.1 sphinxcontrib-qthelp-2.0.0 sphinxcontrib-serializinghtml-2.0.0 tqdm-4.67.1 tzdata-2025.2\n",
      "Note: you may need to restart the kernel to use updated packages.\n"
     ]
    }
   ],
   "source": [
    "%pip install matplotlib astropy numpy pandas setigen matplotlib blimpy"
   ]
  },
  {
   "cell_type": "code",
   "execution_count": 6,
   "id": "4ce8dde1-c1b0-4a01-935a-cac61f5169b7",
   "metadata": {},
   "outputs": [
    {
     "name": "stderr",
     "output_type": "stream",
     "text": [
      "/home/obs/.conda/envs/seticore/lib/python3.12/site-packages/blimpy/__init__.py:21: UserWarning: pkg_resources is deprecated as an API. See https://setuptools.pypa.io/en/latest/pkg_resources.html. The pkg_resources package is slated for removal as early as 2025-11-30. Refrain from using this package or pin to Setuptools<81.\n",
      "  from pkg_resources import get_distribution, DistributionNotFound\n"
     ]
    }
   ],
   "source": [
    "%matplotlib inline\n",
    "from astropy import units as u\n",
    "import setigen as stg\n",
    "from matplotlib import pyplot as plt\n",
    "import hdf5plugin\n",
    "from blimpy import Waterfall\n",
    "import os\n",
    "import random\n",
    "\n",
    "plt.clf()\n",
    "output_file = \"et_signals/test.h5\"\n",
    "os.makedirs(\"et_signals\", exist_ok=True)\n",
    "frame = stg.Frame(\n",
    "    fchans=1024 * u.pixel,\n",
    "    tchans=32 * u.pixel,\n",
    "    df=2.7939677238464355 * u.Hz,\n",
    "    dt=18.253611008 * u.s,\n",
    "    fch1=random.uniform(6095.21, 6095.2125) * u.MHz,\n",
    ")\n",
    "noise = frame.add_noise(x_mean=10, noise_type=\"chi2\")\n",
    "signal = frame.add_signal(\n",
    "    stg.constant_path(\n",
    "        f_start=frame.get_frequency(index=200),\n",
    "        drift_rate=random.uniform(-2, 2) * u.Hz / u.s,\n",
    "    ),\n",
    "    stg.constant_t_profile(level=frame.get_intensity(snr=random.uniform(10, 30))),\n",
    "    stg.gaussian_f_profile(width=random.uniform(20, 60) * u.Hz),\n",
    "    stg.constant_bp_profile(level=1),\n",
    ")"
   ]
  },
  {
   "cell_type": "code",
   "execution_count": 7,
   "id": "2a22bcbf-13ca-4f62-a2d0-d27b19d34828",
   "metadata": {},
   "outputs": [
    {
     "name": "stdout",
     "output_type": "stream",
     "text": [
      "blimpy.waterfall INFO     __write_to_hdf5_light: Writing the spectra matrix for et_signals/test.h5 without blobbing.\n",
      "hdf5plugin._filters WARNING  Deprecation: hdf5plugin.Bitshuffle's lz4 argument is deprecated, use cname='lz4' or 'none' instead.\n",
      "hdf5plugin._filters WARNING  Deprecation: hdf5plugin.Bitshuffle's lz4 argument is deprecated, use cname='lz4' or 'none' instead.\n",
      "blimpy.waterfall INFO     Conversion time: 0.01sec\n"
     ]
    }
   ],
   "source": [
    "frame.save_h5(output_file)"
   ]
  },
  {
   "cell_type": "code",
   "execution_count": null,
   "id": "956e4b8c-8566-47e4-9d10-d861925e5387",
   "metadata": {},
   "outputs": [],
   "source": []
  }
 ],
 "metadata": {
  "kernelspec": {
   "display_name": "Python 3 (ipykernel)",
   "language": "python",
   "name": "python3"
  },
  "language_info": {
   "codemirror_mode": {
    "name": "ipython",
    "version": 3
   },
   "file_extension": ".py",
   "mimetype": "text/x-python",
   "name": "python",
   "nbconvert_exporter": "python",
   "pygments_lexer": "ipython3",
   "version": "3.12.11"
  }
 },
 "nbformat": 4,
 "nbformat_minor": 5
}
