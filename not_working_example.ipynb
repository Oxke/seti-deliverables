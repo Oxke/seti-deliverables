{
 "cells": [
  {
   "cell_type": "code",
   "execution_count": 1,
   "id": "4ce8dde1-c1b0-4a01-935a-cac61f5169b7",
   "metadata": {},
   "outputs": [
    {
     "name": "stderr",
     "output_type": "stream",
     "text": [
      "/home/obs/.conda/envs/seticore/lib/python3.10/site-packages/blimpy/__init__.py:21: UserWarning: pkg_resources is deprecated as an API. See https://setuptools.pypa.io/en/latest/pkg_resources.html. The pkg_resources package is slated for removal as early as 2025-11-30. Refrain from using this package or pin to Setuptools<81.\n",
      "  from pkg_resources import get_distribution, DistributionNotFound\n"
     ]
    },
    {
     "name": "stdout",
     "output_type": "stream",
     "text": [
      "blimpy.waterfall INFO     __write_to_hdf5_light: Writing the spectra matrix for et_signals/test.h5 without blobbing.\n",
      "hdf5plugin._filters WARNING  Deprecation: hdf5plugin.Bitshuffle's lz4 argument is deprecated, use cname='lz4' or 'none' instead.\n",
      "hdf5plugin._filters WARNING  Deprecation: hdf5plugin.Bitshuffle's lz4 argument is deprecated, use cname='lz4' or 'none' instead.\n"
     ]
    },
    {
     "ename": "ValueError",
     "evalue": "Unable to synchronously create dataset (error during user callback)",
     "output_type": "error",
     "traceback": [
      "\u001b[0;31m---------------------------------------------------------------------------\u001b[0m",
      "\u001b[0;31mValueError\u001b[0m                                Traceback (most recent call last)",
      "Cell \u001b[0;32mIn[1], line 23\u001b[0m\n\u001b[1;32m     17\u001b[0m signal \u001b[38;5;241m=\u001b[39m frame\u001b[38;5;241m.\u001b[39madd_signal(stg\u001b[38;5;241m.\u001b[39mconstant_path(f_start\u001b[38;5;241m=\u001b[39mframe\u001b[38;5;241m.\u001b[39mget_frequency(index\u001b[38;5;241m=\u001b[39m\u001b[38;5;241m200\u001b[39m),\n\u001b[1;32m     18\u001b[0m                                             drift_rate\u001b[38;5;241m=\u001b[39mrandom\u001b[38;5;241m.\u001b[39muniform(\u001b[38;5;241m-\u001b[39m\u001b[38;5;241m2\u001b[39m, \u001b[38;5;241m2\u001b[39m)\u001b[38;5;241m*\u001b[39mu\u001b[38;5;241m.\u001b[39mHz\u001b[38;5;241m/\u001b[39mu\u001b[38;5;241m.\u001b[39ms),\n\u001b[1;32m     19\u001b[0m                           stg\u001b[38;5;241m.\u001b[39mconstant_t_profile(level\u001b[38;5;241m=\u001b[39mframe\u001b[38;5;241m.\u001b[39mget_intensity(snr\u001b[38;5;241m=\u001b[39mrandom\u001b[38;5;241m.\u001b[39muniform(\u001b[38;5;241m10\u001b[39m,\u001b[38;5;241m30\u001b[39m))),\n\u001b[1;32m     20\u001b[0m                           stg\u001b[38;5;241m.\u001b[39mgaussian_f_profile(width\u001b[38;5;241m=\u001b[39mrandom\u001b[38;5;241m.\u001b[39muniform(\u001b[38;5;241m20\u001b[39m,\u001b[38;5;241m60\u001b[39m)\u001b[38;5;241m*\u001b[39mu\u001b[38;5;241m.\u001b[39mHz),\n\u001b[1;32m     21\u001b[0m                           stg\u001b[38;5;241m.\u001b[39mconstant_bp_profile(level\u001b[38;5;241m=\u001b[39m\u001b[38;5;241m1\u001b[39m))\n\u001b[1;32m     22\u001b[0m fig \u001b[38;5;241m=\u001b[39m plt\u001b[38;5;241m.\u001b[39mfigure(figsize\u001b[38;5;241m=\u001b[39m(\u001b[38;5;241m10\u001b[39m, \u001b[38;5;241m6\u001b[39m))\n\u001b[0;32m---> 23\u001b[0m \u001b[43mframe\u001b[49m\u001b[38;5;241;43m.\u001b[39;49m\u001b[43msave_h5\u001b[49m\u001b[43m(\u001b[49m\u001b[43moutput_file\u001b[49m\u001b[43m)\u001b[49m\n\u001b[1;32m     24\u001b[0m file \u001b[38;5;241m=\u001b[39m Waterfall(output_file)\n\u001b[1;32m     25\u001b[0m file\u001b[38;5;241m.\u001b[39mplot_waterfall()\n",
      "File \u001b[0;32m~/.conda/envs/seticore/lib/python3.10/site-packages/setigen/frame.py:1151\u001b[0m, in \u001b[0;36mFrame.save_h5\u001b[0;34m(self, filename, max_load)\u001b[0m\n\u001b[1;32m   1147\u001b[0m \u001b[38;5;28;01mdef\u001b[39;00m\u001b[38;5;250m \u001b[39m\u001b[38;5;21msave_h5\u001b[39m(\u001b[38;5;28mself\u001b[39m, filename, max_load\u001b[38;5;241m=\u001b[39m\u001b[38;5;241m1\u001b[39m):\n\u001b[1;32m   1148\u001b[0m \u001b[38;5;250m    \u001b[39m\u001b[38;5;124;03m\"\"\"\u001b[39;00m\n\u001b[1;32m   1149\u001b[0m \u001b[38;5;124;03m    Save frame data as an HDF5 file.\u001b[39;00m\n\u001b[1;32m   1150\u001b[0m \u001b[38;5;124;03m    \"\"\"\u001b[39;00m\n\u001b[0;32m-> 1151\u001b[0m     \u001b[38;5;28;43mself\u001b[39;49m\u001b[38;5;241;43m.\u001b[39;49m\u001b[43msave_hdf5\u001b[49m\u001b[43m(\u001b[49m\u001b[43mfilename\u001b[49m\u001b[43m,\u001b[49m\u001b[43m \u001b[49m\u001b[43mmax_load\u001b[49m\u001b[38;5;241;43m=\u001b[39;49m\u001b[43mmax_load\u001b[49m\u001b[43m)\u001b[49m\n",
      "File \u001b[0;32m~/.conda/envs/seticore/lib/python3.10/site-packages/setigen/frame.py:1144\u001b[0m, in \u001b[0;36mFrame.save_hdf5\u001b[0;34m(self, filename, max_load)\u001b[0m\n\u001b[1;32m   1142\u001b[0m \u001b[38;5;28mself\u001b[39m\u001b[38;5;241m.\u001b[39m_update_waterfall(filename\u001b[38;5;241m=\u001b[39mfilename, max_load\u001b[38;5;241m=\u001b[39mmax_load)\n\u001b[1;32m   1143\u001b[0m \u001b[38;5;28mself\u001b[39m\u001b[38;5;241m.\u001b[39m_encode_bytestrings()\n\u001b[0;32m-> 1144\u001b[0m \u001b[38;5;28;43mself\u001b[39;49m\u001b[38;5;241;43m.\u001b[39;49m\u001b[43mwaterfall\u001b[49m\u001b[38;5;241;43m.\u001b[39;49m\u001b[43mwrite_to_hdf5\u001b[49m\u001b[43m(\u001b[49m\u001b[43mfilename\u001b[49m\u001b[43m)\u001b[49m\n\u001b[1;32m   1145\u001b[0m \u001b[38;5;28mself\u001b[39m\u001b[38;5;241m.\u001b[39m_decode_bytestrings()\n",
      "File \u001b[0;32m~/.conda/envs/seticore/lib/python3.10/site-packages/blimpy/waterfall.py:398\u001b[0m, in \u001b[0;36mWaterfall.write_to_hdf5\u001b[0;34m(self, filename_out, *args, **kwargs)\u001b[0m\n\u001b[1;32m    396\u001b[0m \u001b[38;5;28;01mdef\u001b[39;00m\u001b[38;5;250m \u001b[39m\u001b[38;5;21mwrite_to_hdf5\u001b[39m(\u001b[38;5;28mself\u001b[39m, filename_out, \u001b[38;5;241m*\u001b[39margs, \u001b[38;5;241m*\u001b[39m\u001b[38;5;241m*\u001b[39mkwargs):\n\u001b[1;32m    397\u001b[0m     \u001b[38;5;28;01mfrom\u001b[39;00m\u001b[38;5;250m \u001b[39m\u001b[38;5;21;01mblimpy\u001b[39;00m\u001b[38;5;21;01m.\u001b[39;00m\u001b[38;5;21;01mio\u001b[39;00m\u001b[38;5;250m \u001b[39m\u001b[38;5;28;01mimport\u001b[39;00m write_to_hdf5\n\u001b[0;32m--> 398\u001b[0m     \u001b[43mwrite_to_hdf5\u001b[49m\u001b[43m(\u001b[49m\u001b[38;5;28;43mself\u001b[39;49m\u001b[43m,\u001b[49m\u001b[43m \u001b[49m\u001b[43mfilename_out\u001b[49m\u001b[43m,\u001b[49m\u001b[43m \u001b[49m\u001b[38;5;241;43m*\u001b[39;49m\u001b[43margs\u001b[49m\u001b[43m,\u001b[49m\u001b[43m \u001b[49m\u001b[38;5;241;43m*\u001b[39;49m\u001b[38;5;241;43m*\u001b[39;49m\u001b[43mkwargs\u001b[49m\u001b[43m)\u001b[49m\n",
      "File \u001b[0;32m~/.conda/envs/seticore/lib/python3.10/site-packages/blimpy/io/hdf_writer.py:28\u001b[0m, in \u001b[0;36mwrite_to_hdf5\u001b[0;34m(wf, filename_out, f_scrunch, *args, **kwargs)\u001b[0m\n\u001b[1;32m     26\u001b[0m     __write_to_hdf5_heavy(wf, filename_out, f_scrunch\u001b[38;5;241m=\u001b[39mf_scrunch, \u001b[38;5;241m*\u001b[39margs, \u001b[38;5;241m*\u001b[39m\u001b[38;5;241m*\u001b[39mkwargs)\n\u001b[1;32m     27\u001b[0m \u001b[38;5;28;01melse\u001b[39;00m:\n\u001b[0;32m---> 28\u001b[0m     \u001b[43m__write_to_hdf5_light\u001b[49m\u001b[43m(\u001b[49m\u001b[43mwf\u001b[49m\u001b[43m,\u001b[49m\u001b[43m \u001b[49m\u001b[43mfilename_out\u001b[49m\u001b[43m,\u001b[49m\u001b[43m \u001b[49m\u001b[43mf_scrunch\u001b[49m\u001b[38;5;241;43m=\u001b[39;49m\u001b[43mf_scrunch\u001b[49m\u001b[43m,\u001b[49m\u001b[43m \u001b[49m\u001b[38;5;241;43m*\u001b[39;49m\u001b[43margs\u001b[49m\u001b[43m,\u001b[49m\u001b[43m \u001b[49m\u001b[38;5;241;43m*\u001b[39;49m\u001b[38;5;241;43m*\u001b[39;49m\u001b[43mkwargs\u001b[49m\u001b[43m)\u001b[49m\n\u001b[1;32m     30\u001b[0m t1 \u001b[38;5;241m=\u001b[39m time\u001b[38;5;241m.\u001b[39mtime()\n\u001b[1;32m     31\u001b[0m wf\u001b[38;5;241m.\u001b[39mlogger\u001b[38;5;241m.\u001b[39minfo(\u001b[38;5;124m'\u001b[39m\u001b[38;5;124mConversion time: \u001b[39m\u001b[38;5;132;01m%2.2f\u001b[39;00m\u001b[38;5;124msec\u001b[39m\u001b[38;5;124m'\u001b[39m \u001b[38;5;241m%\u001b[39m (t1\u001b[38;5;241m-\u001b[39m t0))\n",
      "File \u001b[0;32m~/.conda/envs/seticore/lib/python3.10/site-packages/blimpy/io/hdf_writer.py:226\u001b[0m, in \u001b[0;36m__write_to_hdf5_light\u001b[0;34m(wf, filename_out, f_scrunch, *args, **kwargs)\u001b[0m\n\u001b[1;32m    223\u001b[0m     wf\u001b[38;5;241m.\u001b[39mheader[\u001b[38;5;124m'\u001b[39m\u001b[38;5;124mfoff\u001b[39m\u001b[38;5;124m'\u001b[39m] \u001b[38;5;241m*\u001b[39m\u001b[38;5;241m=\u001b[39m f_scrunch\n\u001b[1;32m    224\u001b[0m     wf\u001b[38;5;241m.\u001b[39mheader[\u001b[38;5;124m'\u001b[39m\u001b[38;5;124mnchans\u001b[39m\u001b[38;5;124m'\u001b[39m] \u001b[38;5;241m/\u001b[39m\u001b[38;5;241m/\u001b[39m\u001b[38;5;241m=\u001b[39m f_scrunch\n\u001b[0;32m--> 226\u001b[0m dset \u001b[38;5;241m=\u001b[39m \u001b[43mh5\u001b[49m\u001b[38;5;241;43m.\u001b[39;49m\u001b[43mcreate_dataset\u001b[49m\u001b[43m(\u001b[49m\u001b[38;5;124;43m'\u001b[39;49m\u001b[38;5;124;43mdata\u001b[39;49m\u001b[38;5;124;43m'\u001b[39;49m\u001b[43m,\u001b[49m\n\u001b[1;32m    227\u001b[0m \u001b[43m                         \u001b[49m\u001b[43mdata\u001b[49m\u001b[38;5;241;43m=\u001b[39;49m\u001b[43mdata_out\u001b[49m\u001b[43m,\u001b[49m\n\u001b[1;32m    228\u001b[0m \u001b[43m                         \u001b[49m\u001b[43mcompression\u001b[49m\u001b[38;5;241;43m=\u001b[39;49m\u001b[43mbs_compression\u001b[49m\u001b[43m,\u001b[49m\n\u001b[1;32m    229\u001b[0m \u001b[43m                         \u001b[49m\u001b[43mcompression_opts\u001b[49m\u001b[38;5;241;43m=\u001b[39;49m\u001b[43mbs_compression_opts\u001b[49m\u001b[43m)\u001b[49m\n\u001b[1;32m    231\u001b[0m dset_mask \u001b[38;5;241m=\u001b[39m h5\u001b[38;5;241m.\u001b[39mcreate_dataset(\u001b[38;5;124m'\u001b[39m\u001b[38;5;124mmask\u001b[39m\u001b[38;5;124m'\u001b[39m,\n\u001b[1;32m    232\u001b[0m                               shape\u001b[38;5;241m=\u001b[39mdata_out\u001b[38;5;241m.\u001b[39mshape,\n\u001b[1;32m    233\u001b[0m                               compression\u001b[38;5;241m=\u001b[39mbs_compression,\n\u001b[1;32m    234\u001b[0m                               compression_opts\u001b[38;5;241m=\u001b[39mbs_compression_opts,\n\u001b[1;32m    235\u001b[0m                               dtype\u001b[38;5;241m=\u001b[39m\u001b[38;5;124m'\u001b[39m\u001b[38;5;124muint8\u001b[39m\u001b[38;5;124m'\u001b[39m)\n\u001b[1;32m    237\u001b[0m dset\u001b[38;5;241m.\u001b[39mdims[\u001b[38;5;241m2\u001b[39m]\u001b[38;5;241m.\u001b[39mlabel \u001b[38;5;241m=\u001b[39m \u001b[38;5;124mb\u001b[39m\u001b[38;5;124m\"\u001b[39m\u001b[38;5;124mfrequency\u001b[39m\u001b[38;5;124m\"\u001b[39m\n",
      "File \u001b[0;32m~/.conda/envs/seticore/lib/python3.10/site-packages/h5py/_hl/group.py:186\u001b[0m, in \u001b[0;36mGroup.create_dataset\u001b[0;34m(self, name, shape, dtype, data, **kwds)\u001b[0m\n\u001b[1;32m    183\u001b[0m         parent_path, name \u001b[38;5;241m=\u001b[39m name\u001b[38;5;241m.\u001b[39mrsplit(\u001b[38;5;124mb\u001b[39m\u001b[38;5;124m'\u001b[39m\u001b[38;5;124m/\u001b[39m\u001b[38;5;124m'\u001b[39m, \u001b[38;5;241m1\u001b[39m)\n\u001b[1;32m    184\u001b[0m         group \u001b[38;5;241m=\u001b[39m \u001b[38;5;28mself\u001b[39m\u001b[38;5;241m.\u001b[39mrequire_group(parent_path)\n\u001b[0;32m--> 186\u001b[0m dsid \u001b[38;5;241m=\u001b[39m \u001b[43mdataset\u001b[49m\u001b[38;5;241;43m.\u001b[39;49m\u001b[43mmake_new_dset\u001b[49m\u001b[43m(\u001b[49m\u001b[43mgroup\u001b[49m\u001b[43m,\u001b[49m\u001b[43m \u001b[49m\u001b[43mshape\u001b[49m\u001b[43m,\u001b[49m\u001b[43m \u001b[49m\u001b[43mdtype\u001b[49m\u001b[43m,\u001b[49m\u001b[43m \u001b[49m\u001b[43mdata\u001b[49m\u001b[43m,\u001b[49m\u001b[43m \u001b[49m\u001b[43mname\u001b[49m\u001b[43m,\u001b[49m\u001b[43m \u001b[49m\u001b[38;5;241;43m*\u001b[39;49m\u001b[38;5;241;43m*\u001b[39;49m\u001b[43mkwds\u001b[49m\u001b[43m)\u001b[49m\n\u001b[1;32m    187\u001b[0m dset \u001b[38;5;241m=\u001b[39m dataset\u001b[38;5;241m.\u001b[39mDataset(dsid)\n\u001b[1;32m    188\u001b[0m \u001b[38;5;28;01mreturn\u001b[39;00m dset\n",
      "File \u001b[0;32m~/.conda/envs/seticore/lib/python3.10/site-packages/h5py/_hl/dataset.py:175\u001b[0m, in \u001b[0;36mmake_new_dset\u001b[0;34m(parent, shape, dtype, data, name, chunks, compression, shuffle, fletcher32, maxshape, compression_opts, fillvalue, scaleoffset, track_times, external, track_order, dcpl, dapl, efile_prefix, virtual_prefix, allow_unknown_filter, rdcc_nslots, rdcc_nbytes, rdcc_w0, fill_time)\u001b[0m\n\u001b[1;32m    172\u001b[0m \u001b[38;5;28;01melse\u001b[39;00m:\n\u001b[1;32m    173\u001b[0m     sid \u001b[38;5;241m=\u001b[39m h5s\u001b[38;5;241m.\u001b[39mcreate_simple(shape, maxshape)\n\u001b[0;32m--> 175\u001b[0m dset_id \u001b[38;5;241m=\u001b[39m \u001b[43mh5d\u001b[49m\u001b[38;5;241;43m.\u001b[39;49m\u001b[43mcreate\u001b[49m\u001b[43m(\u001b[49m\u001b[43mparent\u001b[49m\u001b[38;5;241;43m.\u001b[39;49m\u001b[43mid\u001b[49m\u001b[43m,\u001b[49m\u001b[43m \u001b[49m\u001b[43mname\u001b[49m\u001b[43m,\u001b[49m\u001b[43m \u001b[49m\u001b[43mtid\u001b[49m\u001b[43m,\u001b[49m\u001b[43m \u001b[49m\u001b[43msid\u001b[49m\u001b[43m,\u001b[49m\u001b[43m \u001b[49m\u001b[43mdcpl\u001b[49m\u001b[38;5;241;43m=\u001b[39;49m\u001b[43mdcpl\u001b[49m\u001b[43m,\u001b[49m\u001b[43m \u001b[49m\u001b[43mdapl\u001b[49m\u001b[38;5;241;43m=\u001b[39;49m\u001b[43mdapl\u001b[49m\u001b[43m)\u001b[49m\n\u001b[1;32m    177\u001b[0m \u001b[38;5;28;01mif\u001b[39;00m (data \u001b[38;5;129;01mis\u001b[39;00m \u001b[38;5;129;01mnot\u001b[39;00m \u001b[38;5;28;01mNone\u001b[39;00m) \u001b[38;5;129;01mand\u001b[39;00m (\u001b[38;5;129;01mnot\u001b[39;00m \u001b[38;5;28misinstance\u001b[39m(data, Empty)):\n\u001b[1;32m    178\u001b[0m     dset_id\u001b[38;5;241m.\u001b[39mwrite(h5s\u001b[38;5;241m.\u001b[39mALL, h5s\u001b[38;5;241m.\u001b[39mALL, data)\n",
      "File \u001b[0;32mh5py/_objects.pyx:56\u001b[0m, in \u001b[0;36mh5py._objects.with_phil.wrapper\u001b[0;34m()\u001b[0m\n",
      "File \u001b[0;32mh5py/_objects.pyx:57\u001b[0m, in \u001b[0;36mh5py._objects.with_phil.wrapper\u001b[0;34m()\u001b[0m\n",
      "File \u001b[0;32mh5py/h5d.pyx:136\u001b[0m, in \u001b[0;36mh5py.h5d.create\u001b[0;34m()\u001b[0m\n",
      "\u001b[0;31mValueError\u001b[0m: Unable to synchronously create dataset (error during user callback)"
     ]
    }
   ],
   "source": [
    "%matplotlib inline\n",
    "from astropy import units as u\n",
    "import setigen as stg\n",
    "import pylab as plt\n",
    "from blimpy import Waterfall\n",
    "import os\n",
    "import random\n",
    "plt.clf()\n",
    "output_file = 'et_signals/test.h5'\n",
    "os.makedirs('et_signals', exist_ok=True)\n",
    "frame = stg.Frame(fchans=1024*u.pixel,\n",
    "                  tchans=32*u.pixel,\n",
    "                  df=2.7939677238464355*u.Hz,\n",
    "                  dt=18.253611008*u.s,\n",
    "                  fch1=random.uniform(6095.21, 6095.2125)*u.MHz)\n",
    "noise = frame.add_noise(x_mean=10, noise_type='chi2')\n",
    "signal = frame.add_signal(stg.constant_path(f_start=frame.get_frequency(index=200),\n",
    "                                            drift_rate=random.uniform(-2, 2)*u.Hz/u.s),\n",
    "                          stg.constant_t_profile(level=frame.get_intensity(snr=random.uniform(10,30))),\n",
    "                          stg.gaussian_f_profile(width=random.uniform(20,60)*u.Hz),\n",
    "                          stg.constant_bp_profile(level=1))\n",
    "fig = plt.figure(figsize=(10, 6))\n",
    "frame.save_h5(output_file)\n",
    "file = Waterfall(output_file)\n",
    "file.plot_waterfall()"
   ]
  },
  {
   "cell_type": "code",
   "execution_count": null,
   "id": "2a22bcbf-13ca-4f62-a2d0-d27b19d34828",
   "metadata": {},
   "outputs": [],
   "source": []
  }
 ],
 "metadata": {
  "kernelspec": {
   "display_name": "Python 3 (ipykernel)",
   "language": "python",
   "name": "python3"
  },
  "language_info": {
   "codemirror_mode": {
    "name": "ipython",
    "version": 3
   },
   "file_extension": ".py",
   "mimetype": "text/x-python",
   "name": "python",
   "nbconvert_exporter": "python",
   "pygments_lexer": "ipython3",
   "version": "3.10.18"
  }
 },
 "nbformat": 4,
 "nbformat_minor": 5
}
