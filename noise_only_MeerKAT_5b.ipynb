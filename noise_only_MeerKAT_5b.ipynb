{
 "cells": [
  {
   "cell_type": "code",
   "execution_count": 21,
   "id": "41578446-f1dd-40b4-850d-568519d8fa41",
   "metadata": {},
   "outputs": [],
   "source": [
    "import setigen_patch as stg # some **kwargs, slightly modified plots\n",
    "import numpy as np\n",
    "import matplotlib.pyplot as plt\n",
    "from astropy import units as u"
   ]
  },
  {
   "cell_type": "code",
   "execution_count": 22,
   "id": "a90de80d-12ea-403d-850e-dec8843b99a8",
   "metadata": {},
   "outputs": [],
   "source": [
    "%matplotlib inline"
   ]
  },
  {
   "cell_type": "code",
   "execution_count": 23,
   "id": "07db371f-e45e-4778-8bce-9fc2f7612228",
   "metadata": {},
   "outputs": [],
   "source": [
    "WINDOW_SIZE = 2**10"
   ]
  },
  {
   "cell_type": "markdown",
   "id": "81997f1f-bbf1-4d18-9318-a56295f3fbcc",
   "metadata": {},
   "source": [
    "First I'll define MeerKAT band 5b parameters"
   ]
  },
  {
   "cell_type": "code",
   "execution_count": 29,
   "id": "158be058-2665-4f5c-9621-b9f3471a7f76",
   "metadata": {},
   "outputs": [
    {
     "data": {
      "text/plain": [
       "(<Quantity 18.75 s>, <Quantity 13.22478056 Hz>)"
      ]
     },
     "execution_count": 29,
     "metadata": {},
     "output_type": "execute_result"
    }
   ],
   "source": [
    "lo, hi = 8.3*u.GHz, 15.4*u.GHz\n",
    "center_freq = (lo+hi)/2\n",
    "bandwidth = (hi-lo)\n",
    "num_samples = 2**29\n",
    "obs_time = 300 * u.s\n",
    "n_ints = 16\n",
    "df = bandwidth / num_samples\n",
    "dt = obs_time / n_ints\n",
    "\n",
    "dt, df.to(u.Hz)"
   ]
  },
  {
   "cell_type": "code",
   "execution_count": 30,
   "id": "cb61c772-310e-4a50-9afc-5c9b1d482142",
   "metadata": {},
   "outputs": [
    {
     "ename": "MemoryError",
     "evalue": "Unable to allocate 64.0 GiB for an array with shape (8589934592,) and data type float64",
     "output_type": "error",
     "traceback": [
      "\u001b[31m---------------------------------------------------------------------------\u001b[39m",
      "\u001b[31mMemoryError\u001b[39m                               Traceback (most recent call last)",
      "\u001b[36mCell\u001b[39m\u001b[36m \u001b[39m\u001b[32mIn[30]\u001b[39m\u001b[32m, line 1\u001b[39m\n\u001b[32m----> \u001b[39m\u001b[32m1\u001b[39m frame = \u001b[43mstg\u001b[49m\u001b[43m.\u001b[49m\u001b[43mFrame\u001b[49m\u001b[43m(\u001b[49m\n\u001b[32m      2\u001b[39m \u001b[43m    \u001b[49m\u001b[43mfchans\u001b[49m\u001b[43m=\u001b[49m\u001b[43mnum_samples\u001b[49m\u001b[43m,\u001b[49m\n\u001b[32m      3\u001b[39m \u001b[43m    \u001b[49m\u001b[43mtchans\u001b[49m\u001b[43m=\u001b[49m\u001b[43mn_ints\u001b[49m\u001b[43m,\u001b[49m\n\u001b[32m      4\u001b[39m \u001b[43m    \u001b[49m\u001b[43mdf\u001b[49m\u001b[43m=\u001b[49m\u001b[43mdf\u001b[49m\u001b[43m,\u001b[49m\n\u001b[32m      5\u001b[39m \u001b[43m    \u001b[49m\u001b[43mdt\u001b[49m\u001b[43m=\u001b[49m\u001b[43mdt\u001b[49m\u001b[43m,\u001b[49m\n\u001b[32m      6\u001b[39m \u001b[43m    \u001b[49m\u001b[43mfch1\u001b[49m\u001b[43m=\u001b[49m\u001b[43mhi\u001b[49m\u001b[43m,\u001b[49m\n\u001b[32m      7\u001b[39m \u001b[43m)\u001b[49m\n",
      "\u001b[36mFile \u001b[39m\u001b[32m~/.conda/envs/seticore/lib/python3.12/site-packages/setigen_patch/frame.py:184\u001b[39m, in \u001b[36mFrame.__init__\u001b[39m\u001b[34m(self, waterfall, fchans, tchans, df, dt, fch1, ascending, data, seed, **kwargs)\u001b[39m\n\u001b[32m    181\u001b[39m \u001b[38;5;28mself\u001b[39m._update_ts()\n\u001b[32m    183\u001b[39m \u001b[38;5;66;03m# No matter what, self.data will be populated at this point.\u001b[39;00m\n\u001b[32m--> \u001b[39m\u001b[32m184\u001b[39m \u001b[38;5;28;43mself\u001b[39;49m\u001b[43m.\u001b[49m\u001b[43m_update_noise_frame_stats\u001b[49m\u001b[43m(\u001b[49m\u001b[43m)\u001b[49m\n\u001b[32m    186\u001b[39m \u001b[38;5;66;03m# Placeholder dictionary for user metadata, just for bookkeeping purposes\u001b[39;00m\n\u001b[32m    187\u001b[39m \u001b[38;5;28mself\u001b[39m.metadata = \u001b[38;5;28mself\u001b[39m.get_params()\n",
      "\u001b[36mFile \u001b[39m\u001b[32m~/.conda/envs/seticore/lib/python3.12/site-packages/setigen_patch/frame.py:428\u001b[39m, in \u001b[36mFrame._update_noise_frame_stats\u001b[39m\u001b[34m(self)\u001b[39m\n\u001b[32m    420\u001b[39m \u001b[38;5;250m\u001b[39m\u001b[33;03m\"\"\"\u001b[39;00m\n\u001b[32m    421\u001b[39m \u001b[33;03mCalculate and update basic noise statistics (mean and standard\u001b[39;00m\n\u001b[32m    422\u001b[39m \u001b[33;03mdeviation) of the frame, using sigma clipping to strip outliers.\u001b[39;00m\n\u001b[32m    423\u001b[39m \u001b[33;03m\"\"\"\u001b[39;00m\n\u001b[32m    424\u001b[39m clipped_data = sigma_clip(\u001b[38;5;28mself\u001b[39m.data,\n\u001b[32m    425\u001b[39m                           sigma=\u001b[32m3\u001b[39m,\n\u001b[32m    426\u001b[39m                           maxiters=\u001b[32m5\u001b[39m,\n\u001b[32m    427\u001b[39m                           masked=\u001b[38;5;28;01mFalse\u001b[39;00m)\n\u001b[32m--> \u001b[39m\u001b[32m428\u001b[39m \u001b[38;5;28mself\u001b[39m.noise_mean, \u001b[38;5;28mself\u001b[39m.noise_std = np.mean(clipped_data), \u001b[43mnp\u001b[49m\u001b[43m.\u001b[49m\u001b[43mstd\u001b[49m\u001b[43m(\u001b[49m\u001b[43mclipped_data\u001b[49m\u001b[43m)\u001b[49m\n",
      "\u001b[36mFile \u001b[39m\u001b[32m~/.conda/envs/seticore/lib/python3.12/site-packages/numpy/_core/fromnumeric.py:4064\u001b[39m, in \u001b[36mstd\u001b[39m\u001b[34m(a, axis, dtype, out, ddof, keepdims, where, mean, correction)\u001b[39m\n\u001b[32m   4061\u001b[39m     \u001b[38;5;28;01melse\u001b[39;00m:\n\u001b[32m   4062\u001b[39m         \u001b[38;5;28;01mreturn\u001b[39;00m std(axis=axis, dtype=dtype, out=out, ddof=ddof, **kwargs)\n\u001b[32m-> \u001b[39m\u001b[32m4064\u001b[39m \u001b[38;5;28;01mreturn\u001b[39;00m \u001b[43m_methods\u001b[49m\u001b[43m.\u001b[49m\u001b[43m_std\u001b[49m\u001b[43m(\u001b[49m\u001b[43ma\u001b[49m\u001b[43m,\u001b[49m\u001b[43m \u001b[49m\u001b[43maxis\u001b[49m\u001b[43m=\u001b[49m\u001b[43maxis\u001b[49m\u001b[43m,\u001b[49m\u001b[43m \u001b[49m\u001b[43mdtype\u001b[49m\u001b[43m=\u001b[49m\u001b[43mdtype\u001b[49m\u001b[43m,\u001b[49m\u001b[43m \u001b[49m\u001b[43mout\u001b[49m\u001b[43m=\u001b[49m\u001b[43mout\u001b[49m\u001b[43m,\u001b[49m\u001b[43m \u001b[49m\u001b[43mddof\u001b[49m\u001b[43m=\u001b[49m\u001b[43mddof\u001b[49m\u001b[43m,\u001b[49m\n\u001b[32m   4065\u001b[39m \u001b[43m                     \u001b[49m\u001b[43m*\u001b[49m\u001b[43m*\u001b[49m\u001b[43mkwargs\u001b[49m\u001b[43m)\u001b[49m\n",
      "\u001b[36mFile \u001b[39m\u001b[32m~/.conda/envs/seticore/lib/python3.12/site-packages/numpy/_core/_methods.py:222\u001b[39m, in \u001b[36m_std\u001b[39m\u001b[34m(a, axis, dtype, out, ddof, keepdims, where, mean)\u001b[39m\n\u001b[32m    220\u001b[39m \u001b[38;5;28;01mdef\u001b[39;00m\u001b[38;5;250m \u001b[39m\u001b[34m_std\u001b[39m(a, axis=\u001b[38;5;28;01mNone\u001b[39;00m, dtype=\u001b[38;5;28;01mNone\u001b[39;00m, out=\u001b[38;5;28;01mNone\u001b[39;00m, ddof=\u001b[32m0\u001b[39m, keepdims=\u001b[38;5;28;01mFalse\u001b[39;00m, *,\n\u001b[32m    221\u001b[39m          where=\u001b[38;5;28;01mTrue\u001b[39;00m, mean=\u001b[38;5;28;01mNone\u001b[39;00m):\n\u001b[32m--> \u001b[39m\u001b[32m222\u001b[39m     ret = \u001b[43m_var\u001b[49m\u001b[43m(\u001b[49m\u001b[43ma\u001b[49m\u001b[43m,\u001b[49m\u001b[43m \u001b[49m\u001b[43maxis\u001b[49m\u001b[43m=\u001b[49m\u001b[43maxis\u001b[49m\u001b[43m,\u001b[49m\u001b[43m \u001b[49m\u001b[43mdtype\u001b[49m\u001b[43m=\u001b[49m\u001b[43mdtype\u001b[49m\u001b[43m,\u001b[49m\u001b[43m \u001b[49m\u001b[43mout\u001b[49m\u001b[43m=\u001b[49m\u001b[43mout\u001b[49m\u001b[43m,\u001b[49m\u001b[43m \u001b[49m\u001b[43mddof\u001b[49m\u001b[43m=\u001b[49m\u001b[43mddof\u001b[49m\u001b[43m,\u001b[49m\n\u001b[32m    223\u001b[39m \u001b[43m               \u001b[49m\u001b[43mkeepdims\u001b[49m\u001b[43m=\u001b[49m\u001b[43mkeepdims\u001b[49m\u001b[43m,\u001b[49m\u001b[43m \u001b[49m\u001b[43mwhere\u001b[49m\u001b[43m=\u001b[49m\u001b[43mwhere\u001b[49m\u001b[43m,\u001b[49m\u001b[43m \u001b[49m\u001b[43mmean\u001b[49m\u001b[43m=\u001b[49m\u001b[43mmean\u001b[49m\u001b[43m)\u001b[49m\n\u001b[32m    225\u001b[39m     \u001b[38;5;28;01mif\u001b[39;00m \u001b[38;5;28misinstance\u001b[39m(ret, mu.ndarray):\n\u001b[32m    226\u001b[39m         ret = um.sqrt(ret, out=ret)\n",
      "\u001b[36mFile \u001b[39m\u001b[32m~/.conda/envs/seticore/lib/python3.12/site-packages/numpy/_core/_methods.py:190\u001b[39m, in \u001b[36m_var\u001b[39m\u001b[34m(a, axis, dtype, out, ddof, keepdims, where, mean)\u001b[39m\n\u001b[32m    185\u001b[39m         arrmean = arrmean / rcount\n\u001b[32m    187\u001b[39m \u001b[38;5;66;03m# Compute sum of squared deviations from mean\u001b[39;00m\n\u001b[32m    188\u001b[39m \u001b[38;5;66;03m# Note that x may not be inexact and that we need it to be an array,\u001b[39;00m\n\u001b[32m    189\u001b[39m \u001b[38;5;66;03m# not a scalar.\u001b[39;00m\n\u001b[32m--> \u001b[39m\u001b[32m190\u001b[39m x = asanyarray(\u001b[43marr\u001b[49m\u001b[43m \u001b[49m\u001b[43m-\u001b[49m\u001b[43m \u001b[49m\u001b[43marrmean\u001b[49m)\n\u001b[32m    192\u001b[39m \u001b[38;5;28;01mif\u001b[39;00m \u001b[38;5;28missubclass\u001b[39m(arr.dtype.type, (nt.floating, nt.integer)):\n\u001b[32m    193\u001b[39m     x = um.multiply(x, x, out=x)\n",
      "\u001b[31mMemoryError\u001b[39m: Unable to allocate 64.0 GiB for an array with shape (8589934592,) and data type float64"
     ]
    }
   ],
   "source": [
    "frame = stg.Frame(\n",
    "    fchans=num_samples,\n",
    "    tchans=n_ints,\n",
    "    df=df,\n",
    "    dt=dt,\n",
    "    fch1=hi,\n",
    ")"
   ]
  },
  {
   "cell_type": "code",
   "execution_count": null,
   "id": "4d82aa90-5493-497d-9cfb-431deb8d2945",
   "metadata": {},
   "outputs": [],
   "source": [
    "T_rx = 10.6 * u.K + 0.633 *(u.K/u.GHz) * (center_freq - 8.41 * u.GHz)\n",
    "T_sky = 5 * u.K\n",
    "T_sys = T_rx + T_sky"
   ]
  },
  {
   "cell_type": "code",
   "execution_count": null,
   "id": "803b6b5f-98bf-4c79-9137-b82ffb9a287e",
   "metadata": {},
   "outputs": [],
   "source": [
    "noise = frame.add_noise(x_mean=0, x_std=np.sqrt(T_sys.value), noise_type='gaussian')"
   ]
  },
  {
   "cell_type": "code",
   "execution_count": null,
   "id": "a33bc0ba-0d2f-46b7-8fe4-174a05f5862f",
   "metadata": {},
   "outputs": [],
   "source": [
    "frame.plot('f', minor_ticks=True, db=False, funits=\"GHz\", fdownsample=2**8)"
   ]
  },
  {
   "cell_type": "code",
   "execution_count": null,
   "id": "30b6a850-b269-4ff0-a980-fc67bbc31aee",
   "metadata": {},
   "outputs": [],
   "source": [
    "def add_signal(frame, mean_freq, dr, snr):\n",
    "    f_start = mean_freq - dr*frame.data.shape[0]*frame.dt*u.s/2\n",
    "    \n",
    "    return frame.add_signal(\n",
    "        stg.constant_path(f_start=f_start,\n",
    "                          drift_rate=dr),\n",
    "        stg.constant_t_profile(level=frame.get_intensity(snr=snr)),\n",
    "        stg.gaussian_f_profile(width=100*u.Hz),\n",
    "        stg.constant_bp_profile(level=1)\n",
    "    )"
   ]
  },
  {
   "cell_type": "code",
   "execution_count": null,
   "id": "eedc710a-2818-4c72-b1b5-6bb8e4d11bba",
   "metadata": {},
   "outputs": [],
   "source": [
    "signal = add_signal(frame, 12. * u.GHz, 1.5 * (u.Hz/u.s), 30)"
   ]
  },
  {
   "cell_type": "code",
   "execution_count": null,
   "id": "482dd54f-4cc4-45a2-877d-aafa8bc2d72b",
   "metadata": {},
   "outputs": [],
   "source": [
    "frame_s = frame.get_slice(\n",
    "    (f := frame.get_index(frequency=12.*u.GHz)) - WINDOW_SIZE//2,\n",
    "    f + WINDOW_SIZE//2\n",
    ")"
   ]
  },
  {
   "cell_type": "code",
   "execution_count": null,
   "id": "3b3c255e-40a6-42f9-88b2-c03906748484",
   "metadata": {},
   "outputs": [],
   "source": [
    "frame_s.data.shape"
   ]
  },
  {
   "cell_type": "code",
   "execution_count": null,
   "id": "8c497166-f046-4657-a9aa-4684553e3d88",
   "metadata": {},
   "outputs": [],
   "source": [
    "frame_s.plot(db=False)"
   ]
  }
 ],
 "metadata": {
  "kernelspec": {
   "display_name": "Python 3 (ipykernel)",
   "language": "python",
   "name": "python3"
  },
  "language_info": {
   "codemirror_mode": {
    "name": "ipython",
    "version": 3
   },
   "file_extension": ".py",
   "mimetype": "text/x-python",
   "name": "python",
   "nbconvert_exporter": "python",
   "pygments_lexer": "ipython3",
   "version": "3.12.11"
  }
 },
 "nbformat": 4,
 "nbformat_minor": 5
}
