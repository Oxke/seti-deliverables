{
 "cells": [
  {
   "cell_type": "code",
   "execution_count": 2,
   "id": "a6eaeebf",
   "metadata": {},
   "outputs": [],
   "source": [
    "# Access astronomical databases\n",
    "from pyvo import registry  # version >=1.6\n",
    "\n",
    "# Moc and HEALPix tools\n",
    "from mocpy import MOC\n",
    "\n",
    "# Coordinates manipulation\n",
    "from astropy.coordinates import SkyCoord\n",
    "\n",
    "# For plots\n",
    "import matplotlib.pyplot as plt\n"
   ]
  },
  {
   "cell_type": "markdown",
   "id": "7ad7861f",
   "metadata": {},
   "source": [
    "# Welcome to VizieR example workflow\n",
    "\n",
    "[![Vizier](https://custom-icon-badges.demolab.com/badge/Vizier-gray.svg?logo=vizier&logoColor=orange&logoWidth=20)](https://vizier.cds.unistra.fr/viz-bin/VizieR \"https://vizier.cds.unistra.fr/viz-bin/VizieR\")\n",
    "\n",
    "**Notes:** \n",
    "\n",
    "It is a generic notebook, highlighting what can be done once you chose a catalog. This workflow is suggested by [CDS](https://cdsweb.unistra.fr/) (Strasbourg Astronomical Data Center, house of [VizieR](https://vizier.cds.unistra.fr/viz-bin/VizieR)).\n",
    "\n",
    "The notebook exploits [pyVO](https://pyvo.readthedocs.io/en/latest/), an advanced library  of The [Virtual Observatory](https://ivoa.net/).\n",
    "\n",
    "[Astroquery](https://astroquery.readthedocs.io/en/latest/vizier/vizier.html) (not used here) is a well-documented, user-friendly alternative.\n",
    "\n",
    "--------------------------------------------------------\n",
    "\n",
    "## 1. Setup\n",
    "\n",
    "This example notebook has the following dependencies: \n",
    "\n",
    "**Required**\n",
    "- pyvo : this library facilitates the access to the Virtual Observatory (VO) resources. VizieR is part of the VO.\n",
    "This notebook needs version >=1.4.1\n",
    "**Optional, for visualization**\n",
    "- ipyaladin : this is the Aladin-lite sky viewer, bundled as a jupyter widget. It allows to plot catalogs and multi-order coverages (MOC)\n",
    "- matplotlib : an other option to see catalog points and MOCs\n",
    "\n",
    "## 2. Metadata exploration with the Virtual Observatory registry\n",
    "\n",
    "This part uses [pyvo](https://pyvo.readthedocs.io/en) to connect to the VO registry."
   ]
  },
  {
   "cell_type": "code",
   "execution_count": 3,
   "id": "95888801",
   "metadata": {},
   "outputs": [],
   "source": [
    "# the catalogue name in VizieR\n",
    "CATALOGUE = \"J/A+A/686/A42\""
   ]
  },
  {
   "cell_type": "markdown",
   "id": "26ad3c69",
   "metadata": {},
   "source": [
    "We first retrieve the catalogue information."
   ]
  },
  {
   "cell_type": "code",
   "execution_count": 4,
   "id": "6db57e6b",
   "metadata": {},
   "outputs": [],
   "source": [
    "# each resource in the VO has an identifier, called ivoid. For vizier catalogs,\n",
    "# the VO ids can be constructed like this:\n",
    "catalogue_ivoid = f\"ivo://CDS.VizieR/{CATALOGUE}\"\n",
    "# the actual query to the registry\n",
    "voresource = registry.search(ivoid=catalogue_ivoid)[0]"
   ]
  },
  {
   "cell_type": "code",
   "execution_count": 5,
   "id": "f3e975e3",
   "metadata": {},
   "outputs": [
    {
     "name": "stdout",
     "output_type": "stream",
     "text": [
      "Improving the open cluster census. III.\n",
      "Short Name: J/A+A/686/A42\n",
      "IVOA Identifier: ivo://cds.vizier/j/a+a/686/a42\n",
      "Access modes: conesearch, tap#aux, web\n",
      "- tap#aux: https://tapvizier.cds.unistra.fr/TAPVizieR/tap\n",
      "- webpage: https://vizier.cds.unistra.fr/viz-bin/VizieR-2?-source=J/A+A/686/A42\n",
      "- conesearch: https://vizier.cds.unistra.fr/viz-\n",
      " bin/conesearch/J/A+A/686/A42/clusters?, description: Cone search capability\n",
      " for table J/A+A/686/A42/clusters (Main catalogue (table 1))\n",
      "- conesearch: https://vizier.cds.unistra.fr/viz-\n",
      " bin/conesearch/J/A+A/686/A42/members?, description: Cone search capability\n",
      " for table J/A+A/686/A42/members (Member stars of clusters (table 2))\n",
      "\n",
      "The census of open clusters has exploded in size thanks to data from the Gaia\n",
      "satellite. However, it is likely that many of these reported clusters are not\n",
      "gravitationally bound, making the open cluster census impractical for many\n",
      "scientific applications. We aim to test different physically motivated methods\n",
      "for distinguishing between bound and unbound clusters, using them to create a\n",
      "cleaned star cluster catalogue. We derived completeness-corrected photometric\n",
      "masses for 6957 clusters from our earlier work. Then, we used these masses to\n",
      "compute the size of the Roche surface of these clusters (their Jacobi radius)\n",
      "and distinguish between bound and unbound clusters. We find that only 5648\n",
      "(79%) of the clusters from our previous catalogue are compatible with bound\n",
      "open clusters, dropping to just 11% of clusters within 250pc. Our catalogue\n",
      "contains 3530 open clusters in a more strongly cut high-quality sample of\n",
      "objects. The moving groups in our sample show different trends in their size\n",
      "as a function of age and mass, suggesting that they are unbound and undergoing\n",
      "different dynamical processes. Our cluster mass measurements constitute the\n",
      "largest catalogue of Milky Way cluster masses to date, which we also use for\n",
      "further science. Firstly, we inferred the mass- dependent completeness limit\n",
      "of the open cluster census, showing that the census is complete within 1.8~kpc\n",
      "only for objects heavier than 230 MSun. Next, we derived a completeness-\n",
      "corrected age and mass function for our open cluster catalogue, including\n",
      "estimating that the Milky Way contains a total of 1.3*10^5^ open clusters,\n",
      "only ~4% of which are currently known. Finally, we show that most open\n",
      "clusters have mass functions compatible with the Kroupa initial mass function.\n",
      "We demonstrate Jacobi radii for distinguishing between bound and unbound star\n",
      "clusters, and publish an updated star cluster catalogue with masses and\n",
      "improved cluster classifications.\n",
      "\n",
      "Waveband Coverage: optical\n",
      "\n",
      "Source: 2024A&A...686A..42H\n",
      "Authors: Hunt E.L.,  Reffert S.\n",
      "Alternative identifier(s): doi:10.26093/cds/vizier.36860042\n",
      "More info: https://cdsarc.cds.unistra.fr/viz-bin/cat/J/A+A/686/A42\n"
     ]
    }
   ],
   "source": [
    "# We can print metadata information about the catalogue\n",
    "voresource.describe(verbose=True)"
   ]
  },
  {
   "cell_type": "markdown",
   "id": "bd2a7ae3",
   "metadata": {},
   "source": [
    "We can also inspect in details the `resource` object and access the attributes not provided by the describe method. See for example, the first author of a resource: "
   ]
  },
  {
   "cell_type": "code",
   "execution_count": 6,
   "id": "f5a53605",
   "metadata": {},
   "outputs": [
    {
     "data": {
      "text/plain": [
       "'Hunt E.L.'"
      ]
     },
     "execution_count": 6,
     "metadata": {},
     "output_type": "execute_result"
    }
   ],
   "source": [
    "voresource.creators[0]"
   ]
  },
  {
   "cell_type": "markdown",
   "id": "5a457510",
   "metadata": {},
   "source": [
    "## 3. Access the tabular data of this catalog\n",
    "\n",
    "We can have a look at the tables available in the catalogue."
   ]
  },
  {
   "cell_type": "code",
   "execution_count": 7,
   "id": "92ebe10f",
   "metadata": {},
   "outputs": [
    {
     "name": "stderr",
     "output_type": "stream",
     "text": [
      "WARNING: W02: ?:?:?: W02: '' is not a valid datatype according to the VOSI spec [pyvo.io.vosi.vodataservice]\n"
     ]
    },
    {
     "name": "stdout",
     "output_type": "stream",
     "text": [
      "In this catalogue, we have 3 tables.\n",
      "J/A+A/686/A42/clusters: Main catalogue (table 1)\n",
      "J/A+A/686/A42/members: Member stars of clusters (table 2)\n",
      "J/A+A/686/A42/crossma: All (non-)xmatched clusters\n"
     ]
    }
   ],
   "source": [
    "tables = voresource.get_tables()\n",
    "print(f\"In this catalogue, we have {len(tables)} tables.\")\n",
    "for table_name, table in tables.items():\n",
    "    print(f\"{table_name}: {table.description}\")"
   ]
  },
  {
   "cell_type": "code",
   "execution_count": 8,
   "id": "81514878",
   "metadata": {},
   "outputs": [
    {
     "data": {
      "text/plain": [
       "['J/A+A/686/A42/clusters', 'J/A+A/686/A42/members', 'J/A+A/686/A42/crossma']"
      ]
     },
     "execution_count": 8,
     "metadata": {},
     "output_type": "execute_result"
    }
   ],
   "source": [
    "# We can also extract the tables names for later use\n",
    "tables_names = list(tables.keys())\n",
    "tables_names"
   ]
  },
  {
   "cell_type": "markdown",
   "id": "eedac527",
   "metadata": {},
   "source": [
    "The actual data can then be accessed using any of the ``access_modes`` of the voresource."
   ]
  },
  {
   "cell_type": "code",
   "execution_count": 9,
   "id": "32db444e",
   "metadata": {},
   "outputs": [
    {
     "data": {
      "text/plain": [
       "{'conesearch', 'tap#aux', 'web'}"
      ]
     },
     "execution_count": 9,
     "metadata": {},
     "output_type": "execute_result"
    }
   ],
   "source": [
    "voresource.access_modes()"
   ]
  },
  {
   "cell_type": "markdown",
   "id": "4a7dd42f",
   "metadata": {},
   "source": [
    "The web access is found by following the ``reference_url``"
   ]
  },
  {
   "cell_type": "code",
   "execution_count": 10,
   "id": "545f9bf8",
   "metadata": {},
   "outputs": [
    {
     "data": {
      "text/plain": [
       "'https://cdsarc.cds.unistra.fr/viz-bin/cat/J/A+A/686/A42'"
      ]
     },
     "execution_count": 10,
     "metadata": {},
     "output_type": "execute_result"
    }
   ],
   "source": [
    "voresource.reference_url"
   ]
  },
  {
   "cell_type": "markdown",
   "id": "80157f1b",
   "metadata": {},
   "source": [
    "<!-- section position -->\n",
    "\n",
    "We will explore the other access modes here.\n",
    "\n",
    "### 3.2. Execute a cone search query\n",
    "\n",
    "We use the Simple Cone Search (<a href='https://www.ivoa.net/documents/latest/ConeSearch.html'>SCS</a>) protocol of the virtual observatory (only available for tables with positions).\n",
    "\n",
    "Finding the conesearch service that you want to use (there is usually one per table):"
   ]
  },
  {
   "cell_type": "markdown",
   "id": "f11fb741",
   "metadata": {},
   "source": [
    "Let's use the first one for this example. "
   ]
  },
  {
   "cell_type": "code",
   "execution_count": 11,
   "id": "4515d133",
   "metadata": {},
   "outputs": [],
   "source": [
    "# we get the conesearch  service associated to the first table\n",
    "conesearch_interface = voresource.get_interface(service_type='conesearch', \n",
    "                                                keyword='J/A+A/686/A42/clusters',\n",
    "                                                lax=True)\n",
    "# if you get a TypeError about an unexpected keyword, check that you installed pyvo>=1.6\n",
    "conesearch_service = conesearch_interface.to_service()"
   ]
  },
  {
   "cell_type": "markdown",
   "id": "ceaefcb5",
   "metadata": {},
   "source": [
    "We adapt the radius and position of the center to our needs:"
   ]
  },
  {
   "cell_type": "code",
   "execution_count": 12,
   "id": "39b1153b",
   "metadata": {},
   "outputs": [],
   "source": [
    "conesearch_radius = 1 / 60.0  # in degrees\n",
    "conesearch_center = (0.054500, 61.065191)"
   ]
  },
  {
   "cell_type": "code",
   "execution_count": 13,
   "id": "8f34d3fd",
   "metadata": {},
   "outputs": [
    {
     "data": {
      "text/plain": [
       "<DALResultsTable length=1>\n",
       "   _r    recno   Name    ID  ... XmatchType  Note   _RA.icrs     _DE.icrs  \n",
       "                             ...                      deg          deg     \n",
       "float64  int32  str20  int16 ...   str16    str33   float64      float64   \n",
       "-------- ----- ------- ----- ... ---------- ----- ------------ ------------\n",
       "0.000000  2530 HSC_932  2572 ...        m:1         0.05451013  61.06519563"
      ]
     },
     "execution_count": 13,
     "metadata": {},
     "output_type": "execute_result"
    }
   ],
   "source": [
    "conesearch_records = conesearch_service.search(\n",
    "    pos=conesearch_center,\n",
    "    sr=conesearch_radius,\n",
    ")\n",
    "conesearch_records"
   ]
  },
  {
   "cell_type": "code",
   "execution_count": 20,
   "id": "1c078639-c1a1-4b97-8934-e2de776e8167",
   "metadata": {},
   "outputs": [
    {
     "data": {
      "text/html": [
       "<div><i>Table length=1</i>\n",
       "<table id=\"table140510917874496\" class=\"table-striped table-bordered table-condensed\">\n",
       "<thead><tr><th>_r</th><th>recno</th><th>Name</th><th>ID</th><th>AllNames</th><th>Type</th><th>CST</th><th>N</th><th>CSTt</th><th>Nt</th><th>RA_ICRS</th><th>DE_ICRS</th><th>GLON</th><th>GLAT</th><th>r50</th><th>rc</th><th>rt</th><th>rtot</th><th>r50pc</th><th>rcpc</th><th>rtpc</th><th>rtotpc</th><th>pmRA</th><th>s_pmRA</th><th>e_pmRA</th><th>pmDE</th><th>s_pmDE</th><th>e_pmDE</th><th>Plx</th><th>s_Plx</th><th>e_Plx</th><th>dist16</th><th>dist50</th><th>dist84</th><th>Ndist</th><th>globalPlx</th><th>X</th><th>Y</th><th>Z</th><th>RV</th><th>s_RV</th><th>e_RV</th><th>n_RV</th><th>CMDCl2.5</th><th>CMDCl16</th><th>CMDCl50</th><th>CMDCl84</th><th>CMDCl97.5</th><th>CMDClHuman</th><th>logAge16</th><th>logAge50</th><th>logAge84</th><th>AV16</th><th>AV50</th><th>AV84</th><th>diffAV16</th><th>diffAV50</th><th>diffAV84</th><th>MOD16</th><th>MOD50</th><th>MOD84</th><th>r50J</th><th>rJ</th><th>r50Jpc</th><th>rJpc</th><th>probJ</th><th>NJ</th><th>MassJ</th><th>e_MassJ</th><th>MassTot</th><th>e_MassTot</th><th>minClSize</th><th>isMerged</th><th>isGMMMemb</th><th>NXmatches</th><th>XmatchType</th><th>Note</th><th>_RA.icrs</th><th>_DE.icrs</th></tr></thead>\n",
       "<thead><tr><th></th><th></th><th></th><th></th><th></th><th></th><th></th><th></th><th></th><th></th><th>deg</th><th>deg</th><th>deg</th><th>deg</th><th>deg</th><th>deg</th><th>deg</th><th>deg</th><th>pc</th><th>pc</th><th>pc</th><th>pc</th><th>mas / yr</th><th>mas / yr</th><th>mas / yr</th><th>mas / yr</th><th>mas / yr</th><th>mas / yr</th><th>mas</th><th>mas</th><th>mas</th><th>pc</th><th>pc</th><th>pc</th><th></th><th></th><th>pc</th><th>pc</th><th>pc</th><th>km / s</th><th>km / s</th><th>km / s</th><th></th><th></th><th></th><th></th><th></th><th></th><th></th><th>log(yr)</th><th>log(yr)</th><th>log(yr)</th><th>mag</th><th>mag</th><th>mag</th><th>mag</th><th>mag</th><th>mag</th><th>mag</th><th>mag</th><th>mag</th><th>deg</th><th>deg</th><th>pc</th><th>pc</th><th></th><th></th><th>solMass</th><th>solMass</th><th>solMass</th><th>solMass</th><th></th><th></th><th></th><th></th><th></th><th></th><th>deg</th><th>deg</th></tr></thead>\n",
       "<thead><tr><th>float64</th><th>int32</th><th>str20</th><th>int16</th><th>str253</th><th>str1</th><th>float64</th><th>int32</th><th>float64</th><th>int32</th><th>float64</th><th>float64</th><th>float64</th><th>float32</th><th>float64</th><th>float64</th><th>float64</th><th>float64</th><th>float64</th><th>float64</th><th>float64</th><th>float64</th><th>float64</th><th>float64</th><th>float64</th><th>float64</th><th>float64</th><th>float64</th><th>float64</th><th>float64</th><th>float64</th><th>float64</th><th>float64</th><th>float64</th><th>int32</th><th>uint8</th><th>float64</th><th>float64</th><th>float64</th><th>float64</th><th>float64</th><th>float64</th><th>int16</th><th>float32</th><th>float32</th><th>float64</th><th>float64</th><th>float64</th><th>str3</th><th>float64</th><th>float64</th><th>float64</th><th>float32</th><th>float64</th><th>float64</th><th>float32</th><th>float64</th><th>float64</th><th>float64</th><th>float64</th><th>float64</th><th>float64</th><th>float64</th><th>float64</th><th>float64</th><th>float32</th><th>int16</th><th>float64</th><th>float64</th><th>float64</th><th>float64</th><th>int16</th><th>uint8</th><th>uint8</th><th>int16</th><th>str16</th><th>str33</th><th>float64</th><th>float64</th></tr></thead>\n",
       "<tr><td>0.000000</td><td>2530</td><td>HSC_932</td><td>2572</td><td>HSC_932</td><td>m</td><td>6.73517941</td><td>32</td><td>6.76520464</td><td>30</td><td>0.05450046</td><td>61.06519101</td><td>116.77496538</td><td>-1.19</td><td>0.51023632</td><td>1.05097155</td><td>1.05097155</td><td>1.17429489</td><td>6.49606683</td><td>13.38157737</td><td>13.38157737</td><td>14.95221806</td><td>-1.05273012</td><td>0.15582492</td><td>0.02844961</td><td>-1.03844479</td><td>0.10486757</td><td>0.01914611</td><td>1.33462655</td><td>0.03861715</td><td>0.00705049</td><td>727.33036518</td><td>729.44116547</td><td>731.56425302</td><td>28</td><td>0</td><td>-8450.54346567</td><td>651.09169626</td><td>6.45752331</td><td>-29.49988762</td><td>9.37165116</td><td>2.70536266</td><td>12</td><td>0.00654</td><td>0.00654</td><td>0.24057178</td><td>0.41467139</td><td>0.82319534</td><td></td><td>7.69078588</td><td>7.95387244</td><td>8.15225124</td><td>0.907</td><td>1.10204494</td><td>1.29729390</td><td>0.756</td><td>1.21984959</td><td>1.62297952</td><td>9.12364388</td><td>9.28608847</td><td>9.42377186</td><td>0.10802203</td><td>0.34402941</td><td>1.37524625</td><td>4.37994266</td><td>0.2</td><td>10</td><td>25.24378745</td><td>4.00032460</td><td>78.04860240</td><td>11.80847762</td><td>20</td><td>0</td><td>0</td><td>1</td><td>m:1</td><td></td><td>0.05451013</td><td>61.06519563</td></tr>\n",
       "</table></div>"
      ],
      "text/plain": [
       "<Table length=1>\n",
       "   _r    recno   Name    ID  ... XmatchType  Note   _RA.icrs     _DE.icrs  \n",
       "                             ...                      deg          deg     \n",
       "float64  int32  str20  int16 ...   str16    str33   float64      float64   \n",
       "-------- ----- ------- ----- ... ---------- ----- ------------ ------------\n",
       "0.000000  2530 HSC_932  2572 ...        m:1         0.05451013  61.06519563"
      ]
     },
     "execution_count": 20,
     "metadata": {},
     "output_type": "execute_result"
    }
   ],
   "source": [
    "conesearch_records.to_table()"
   ]
  },
  {
   "cell_type": "markdown",
   "id": "d1df2200",
   "metadata": {
    "jp-MarkdownHeadingCollapsed": true
   },
   "source": [
    "## 4. Get the catalogue coverage\n",
    "\n",
    "VizieR also provides the coverage of each catalogue with Multiple Order Coverage (<a href='https://ivoa.net/documents/MOC/'>MOC</a>) at order 10 -- meaning with a 0.001 rad spacial resolution."
   ]
  },
  {
   "cell_type": "code",
   "execution_count": null,
   "id": "b532da7e",
   "metadata": {},
   "outputs": [],
   "source": [
    "# retrieve the MOC\n",
    "catalogue_coverage = MOC.from_vizier_table(CATALOGUE)\n",
    "catalogue_coverage.display_preview()"
   ]
  },
  {
   "cell_type": "markdown",
   "id": "a8273b53",
   "metadata": {},
   "source": [
    "The quick preview is the whole sky in equatorial coordinates. Red represent zones where the catalog has data, black areas are empty zones.\n",
    "\n",
    "We can also plot the coverage with ``matplotlib``."
   ]
  },
  {
   "cell_type": "code",
   "execution_count": null,
   "id": "f47e09e2",
   "metadata": {},
   "outputs": [],
   "source": [
    "fig = plt.figure(figsize=(5, 5))\n",
    "wcs = catalogue_coverage.wcs(fig)\n",
    "ax = fig.add_subplot(projection=wcs)\n",
    "catalogue_coverage.fill(ax=ax, wcs=wcs, alpha=0.5, color=\"blue\")"
   ]
  }
 ],
 "metadata": {
  "kernelspec": {
   "display_name": "Python 3 (ipykernel)",
   "language": "python",
   "name": "python3"
  },
  "language_info": {
   "codemirror_mode": {
    "name": "ipython",
    "version": 3
   },
   "file_extension": ".py",
   "mimetype": "text/x-python",
   "name": "python",
   "nbconvert_exporter": "python",
   "pygments_lexer": "ipython3",
   "version": "3.12.11"
  }
 },
 "nbformat": 4,
 "nbformat_minor": 5
}
