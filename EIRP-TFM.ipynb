{
 "cells": [
  {
   "cell_type": "markdown",
   "id": "f287d188-2b7c-45cf-a566-d38cd3fafa8e",
   "metadata": {},
   "source": [
    "# EIRP - TFM\n",
    "$$ TFM = \\eta \\frac{\\text{EIRP}_\\text{min}}{N_\\text{stars}\\nu_\\text{rel}} $$\n",
    "$$ \\text{EIRP}_\\text{min} = 4 \\pi d^2 F_\\text{min} $$\n",
    "$$ F_\\text{min} = \\text{SNR}_\\text{min} \\frac{2k_B T_\\text{sys}}{A_\\text{eff}} \\sqrt{\\frac{B}{n_\\text{pol} \\tau_\\text{obs} }}$$\n",
    "\n",
    "and now we trace back all of the values in order to compute the first"
   ]
  },
  {
   "cell_type": "code",
   "execution_count": 1,
   "id": "69c9e2c4-b4ec-445e-aff7-9e66c3357848",
   "metadata": {},
   "outputs": [],
   "source": [
    "import numpy as np\n",
    "from astropy import units as u"
   ]
  },
  {
   "cell_type": "code",
   "execution_count": 2,
   "id": "84520b90-b7ee-4c92-badc-82f04283d31c",
   "metadata": {},
   "outputs": [],
   "source": [
    "hi, lo = 15.3 * u.GHz, 8.4 * u.GHz\n",
    "bandwidth = 2 * u.GHz\n",
    "nu_mean = (hi + lo)/2\n",
    "nu_rel = bandwidth / nu_mean"
   ]
  },
  {
   "cell_type": "code",
   "execution_count": 38,
   "id": "0030cbb9-c946-4e94-adf0-7759aac0b88d",
   "metadata": {},
   "outputs": [],
   "source": [
    "T_rx = lambda nu: 10.6*u.K + 0.633 * (nu - 8.41*u.GHz) * (u.K/u.GHz)\n",
    "T_sky = lambda nu: 568*u.K * (nu / u.GHz)**-1.13 # galactic center \n",
    "T_sys = lambda nu: T_rx(nu) + T_sky(nu)"
   ]
  },
  {
   "cell_type": "code",
   "execution_count": 72,
   "id": "8fa55834-036a-406d-9ee0-df36f0efce76",
   "metadata": {},
   "outputs": [],
   "source": [
    "S_N_min = 10 # Czech et al. (2021), Price et al. (2020)\n",
    "k_B = 1.3806503e-23 * (u.J / u.K) # Boltzmann Constant\n",
    "D = 13.5 * u.m # antenna diameter\n",
    "# D = 8 * u.km # antenna syntetized beam\n",
    "n_antennas = 64\n",
    "A_eff = .65 * np.pi * (D / 2)**2 * n_antennas\n",
    "B = 1 * u.Hz # width of the signal\n",
    "n_pol = 1\n",
    "tau_obs = 30 * 60 * u.s # 30 minutes"
   ]
  },
  {
   "cell_type": "code",
   "execution_count": 73,
   "id": "7bfaf646-3706-494e-baa1-73c28b92449c",
   "metadata": {},
   "outputs": [],
   "source": [
    "F_min = lambda nu: S_N_min * 2 * k_B * T_sys(nu) / A_eff * np.sqrt(B / (n_pol * tau_obs))"
   ]
  },
  {
   "cell_type": "code",
   "execution_count": 74,
   "id": "f13161f4-d6ea-4e26-87bf-63c200b4406f",
   "metadata": {},
   "outputs": [
    {
     "data": {
      "text/latex": [
       "$5.8709073 \\times 10^{-26} \\; \\mathrm{\\frac{W}{m^{2}}}$"
      ],
      "text/plain": [
       "<Quantity 5.87090725e-26 W / m2>"
      ]
     },
     "execution_count": 74,
     "metadata": {},
     "output_type": "execute_result"
    }
   ],
   "source": [
    "F_min(10 * u.GHz).to(u.W / (u.m)**2)"
   ]
  },
  {
   "cell_type": "code",
   "execution_count": 75,
   "id": "9b42ce1c-9997-44d2-a7a0-62ffb0344e37",
   "metadata": {},
   "outputs": [],
   "source": [
    "EIRP_min = lambda nu, d: 4 * np.pi * d**2 * F_min(nu)"
   ]
  },
  {
   "cell_type": "code",
   "execution_count": 76,
   "id": "e82a4ad6-bc2d-417f-ba41-c822f7fae532",
   "metadata": {},
   "outputs": [],
   "source": [
    "import os\n",
    "import sys\n",
    "import contextlib\n",
    "\n",
    "@contextlib.contextmanager\n",
    "def suppress_output():\n",
    "    with open(os.devnull, 'w') as fnull:\n",
    "        old_stdout = sys.stdout\n",
    "        sys.stdout = fnull\n",
    "        try:\n",
    "            yield\n",
    "        finally:\n",
    "            sys.stdout = old_stdout"
   ]
  },
  {
   "cell_type": "code",
   "execution_count": 77,
   "id": "c6871cf8-0471-45b1-973a-bc4c6462c1e7",
   "metadata": {},
   "outputs": [],
   "source": [
    "from astropy.table import Table, vstack\n",
    "from tqdm import tqdm\n",
    "from targetexplore import Targets, random_pointings"
   ]
  },
  {
   "cell_type": "code",
   "execution_count": 78,
   "id": "14010c30-a60a-42cb-b722-7446777cc2e2",
   "metadata": {},
   "outputs": [],
   "source": [
    "final_table = Table(\n",
    "    names=[\n",
    "        \"designation\",\n",
    "        \"ra\", \"dec\",\n",
    "        \"parallax\", \"parallax_error\",\n",
    "        \"phot_bp_mean_mag\", \"phot_g_mean_mag\", \"bp_rp\", \n",
    "        \"distance_gspphot\", \"distance_gspphot_lower\", \"distance_gspphot_upper\",\n",
    "        \"bp_rp_error\",\n",
    "        \"abs_g_mag\", \"abs_g_mag_error\"\n",
    "    ],\n",
    "    dtype=[\"object\", *([\"float64\"]*13)]\n",
    ")"
   ]
  },
  {
   "cell_type": "code",
   "execution_count": null,
   "id": "68542c9d-46cc-48db-b110-1a89dc66fc92",
   "metadata": {},
   "outputs": [
    {
     "name": "stderr",
     "output_type": "stream",
     "text": [
      "Simulating 3 years of random observations of MeerKAT sky:   0%|                                                                                                            | 0/156 [00:00<?, ?it/s]"
     ]
    }
   ],
   "source": [
    "N_stars = [0]\n",
    "for i in tqdm(range(52 * 3), desc=\"Simulating 3 years of random observations of MeerKAT sky\", miniters=1, mininterval=0.1):\n",
    "    with suppress_output():\n",
    "        tgts = random_pointings(\n",
    "            int(10000/52), # CORRECT ONE \n",
    "            # 5, # LOWER FOR TESTING\n",
    "            dec_lims=[-90, 45],\n",
    "            return_targets=True,\n",
    "            telescope=\"MeerKAT\", band=\"5b\",\n",
    "            quality_cut=\"\"\"\n",
    "        distance_gspphot > 0 and (distance_gspphot_upper - distance_gspphot_lower) / distance_gspphot < .2\n",
    "        and phot_g_mean_flux_over_error > 50\n",
    "        and phot_rp_mean_flux_over_error > 20\n",
    "        and phot_bp_mean_flux_over_error > 20\n",
    "        and phot_bp_rp_excess_factor < 1.3 + 0.06 * POWER(phot_bp_mean_mag - phot_rp_mean_mag, 2)\n",
    "        and phot_bp_rp_excess_factor > 1.0 + 0.015 * POWER(phot_bp_mean_mag - phot_rp_mean_mag, 2)\n",
    "        and visibility_periods_used >= 8\n",
    "        and astrometric_n_good_obs_al > 5\n",
    "        and astrometric_chi2_al / (astrometric_n_good_obs_al - 5) < 1.44 * GREATEST(1, EXP(-0.4 * (phot_g_mean_mag - 19.5)))\n",
    "        \"\"\"\n",
    "        )\n",
    "    final_table = vstack([final_table, tgts.table])\n",
    "    final_table = final_table.group_by(\"designation\").groups.aggregate(lambda g: g[0])\n",
    "    N_stars.append(len(final_table))"
   ]
  },
  {
   "cell_type": "code",
   "execution_count": 18,
   "id": "d3ed0e24-6afa-45ff-b242-2a92cf8e2d9d",
   "metadata": {},
   "outputs": [],
   "source": [
    "from matplotlib import pyplot as plt"
   ]
  },
  {
   "cell_type": "code",
   "execution_count": 19,
   "id": "e0f85806-7eb7-4ec2-8b36-e520ab64e177",
   "metadata": {},
   "outputs": [
    {
     "data": {
      "text/plain": [
       "[<matplotlib.lines.Line2D at 0x7fc4dd2084a0>]"
      ]
     },
     "execution_count": 19,
     "metadata": {},
     "output_type": "execute_result"
    },
    {
     "data": {
      "image/png": "[encoded data removed]",
      "text/plain": [
       "<Figure size 640x480 with 1 Axes>"
      ]
     },
     "metadata": {},
     "output_type": "display_data"
    }
   ],
   "source": [
    "plt.plot(N_stars)"
   ]
  },
  {
   "cell_type": "code",
   "execution_count": 20,
   "id": "71813edd-982c-4d81-b73b-48e0d93db96b",
   "metadata": {},
   "outputs": [
    {
     "data": {
      "text/plain": [
       "2698568"
      ]
     },
     "execution_count": 20,
     "metadata": {},
     "output_type": "execute_result"
    }
   ],
   "source": [
    "N_stars[-1]"
   ]
  },
  {
   "cell_type": "code",
   "execution_count": 25,
   "id": "c44eb2ce-8d2d-4a38-8f1e-b4f6c159da43",
   "metadata": {},
   "outputs": [],
   "source": [
    "tgts = random_pointings(\n",
    "    0,\n",
    "    telescope=\"MeerKAT\", band=\"5b\",\n",
    "    return_targets=True,\n",
    "    query=False\n",
    ")\n",
    "tgts.table = final_table"
   ]
  },
  {
   "cell_type": "code",
   "execution_count": 26,
   "id": "d3886619-3137-4918-9181-a426d2163bc5",
   "metadata": {},
   "outputs": [],
   "source": [
    "eirp_mins = np.array([EIRP_min(nu_mean, d*u.pc).to(u.W).value for d in tgts.gaia_dist[0]])"
   ]
  },
  {
   "cell_type": "code",
   "execution_count": 27,
   "id": "50ded947-feed-44a9-bd8c-d1bb7bf31d89",
   "metadata": {},
   "outputs": [],
   "source": [
    "from collections import Counter\n",
    "from matplotlib import pyplot as plt\n",
    "%matplotlib inline"
   ]
  },
  {
   "cell_type": "code",
   "execution_count": 28,
   "id": "f1d36437-d4da-44f6-a190-87e412e28643",
   "metadata": {},
   "outputs": [
    {
     "data": {
      "text/plain": [
       "Counter({np.int64(17): 1643975,\n",
       "         np.int64(18): 933652,\n",
       "         np.int64(16): 83654,\n",
       "         np.int64(19): 29441,\n",
       "         np.int64(15): 4229,\n",
       "         np.int64(20): 3508,\n",
       "         np.int64(14): 102,\n",
       "         np.int64(13): 7})"
      ]
     },
     "execution_count": 28,
     "metadata": {},
     "output_type": "execute_result"
    }
   ],
   "source": [
    "counts = Counter(np.ceil(np.log10(eirp_mins)).astype(int))\n",
    "counts"
   ]
  },
  {
   "cell_type": "code",
   "execution_count": 70,
   "id": "a822ae17-92b0-4f9e-9b51-3cadd026e679",
   "metadata": {},
   "outputs": [
    {
     "data": {
      "image/png": "[encoded data removed]",
      "text/plain": [
       "<Figure size 700x500 with 1 Axes>"
      ]
     },
     "metadata": {},
     "output_type": "display_data"
    }
   ],
   "source": [
    "x = np.arange(11, 40)\n",
    "y_BL_MeerKAT_5b = [np.log10(1 / (nu_rel * counts[k] * 3)) for k in x]\n",
    "\n",
    "# Plot\n",
    "plt.figure(figsize=(7,5))\n",
    "plt.scatter(x, y_BL_MeerKAT_5b, color='red', s=100, label=\"BL-MeerKAT Band 5b (3 years)\")\n",
    "plt.scatter(x,[np.nan, -1.9674796747967487,\n",
    "               -3.512195121951219,\n",
    "               -4.861788617886179,\n",
    "               -5.804878048780488,\n",
    "               -6.195121951219512,\n",
    "               -5.642276422764228,\n",
    "               -2.0487804878048785,\n",
    "               *([np.nan]*21)],\n",
    "            marker='D', color='orange', s=70, label=\"BL-MeerKAT Czech (3 years)\")\n",
    "plt.scatter(x, [-0.7479674796747973,\n",
    "                -1.5609756097560976,\n",
    "                -1.7886178861788622,\n",
    "                -1.886178861788618,\n",
    "                -2.5203252032520327,\n",
    "                -3.333333333333334,\n",
    "                -4.081300813008131,\n",
    "                -4.195121951219512,\n",
    "                *([np.nan]*21)],\n",
    "            marker='>', color='navy', s=70, label=\"WG&S Parkes\")\n",
    "plt.scatter(x, y_exotica_MeerKAT_5b, marker='p', s=80, label=\"Exotica MeerKAT Band 5b (3 years)\")\n",
    "plt.xlabel(r'$\\log_{10}(\\mathrm{EIRP}_{\\min})$')\n",
    "plt.ylabel(r'$\\log_{10}(\\mathrm{transmitter\\ rate})$')\n",
    "plt.title('Transmitter Rate vs Minimum EIRP')\n",
    "plt.grid(True)\n",
    "\n",
    "plt.legend()\n",
    "plt.tight_layout()"
   ]
  },
  {
   "cell_type": "code",
   "execution_count": 65,
   "id": "50e5ac06-f1c7-4acd-b228-a2608b7c8ed4",
   "metadata": {},
   "outputs": [],
   "source": [
    "y_exotica_MeerKAT_5b = [np.inf,\n",
    " np.inf,\n",
    " np.inf,\n",
    " np.inf,\n",
    " np.inf,\n",
    " np.inf,\n",
    " np.inf,\n",
    " np.inf,\n",
    " np.inf,\n",
    " np.inf,\n",
    " np.inf,\n",
    " np.float64(-8.70443290003752),\n",
    " np.float64(-9.072409685332115),\n",
    " np.float64(-9.072409685332115),\n",
    " np.float64(-9.783614146085146),\n",
    " np.float64(-10.508345012565586),\n",
    " np.float64(-11.214530875225863),\n",
    " np.float64(-11.621938409590067),\n",
    " np.float64(-11.106980850949911),\n",
    " np.float64(-10.57170391900297),\n",
    " np.float64(-10.02665219477144),\n",
    " np.inf,\n",
    " np.inf,\n",
    " np.inf,\n",
    " np.inf,\n",
    " np.inf,\n",
    " np.inf,\n",
    " np.inf,\n",
    " np.inf]"
   ]
  },
  {
   "cell_type": "code",
   "execution_count": null,
   "id": "dd2b41c9-d87e-441d-ac37-1792f8b5e83a",
   "metadata": {},
   "outputs": [],
   "source": []
  }
 ],
 "metadata": {
  "kernelspec": {
   "display_name": "Python 3 (ipykernel)",
   "language": "python",
   "name": "python3"
  },
  "language_info": {
   "codemirror_mode": {
    "name": "ipython",
    "version": 3
   },
   "file_extension": ".py",
   "mimetype": "text/x-python",
   "name": "python",
   "nbconvert_exporter": "python",
   "pygments_lexer": "ipython3",
   "version": "3.12.11"
  }
 },
 "nbformat": 4,
 "nbformat_minor": 5
}
